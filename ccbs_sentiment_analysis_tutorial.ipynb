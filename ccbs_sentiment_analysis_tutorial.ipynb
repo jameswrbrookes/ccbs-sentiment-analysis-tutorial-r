{
  "nbformat": 4,
  "nbformat_minor": 0,
  "metadata": {
    "colab": {
      "provenance": [],
      "toc_visible": true,
      "machine_shape": "hm",
      "gpuClass": "premium",
      "authorship_tag": "ABX9TyObAEgPzUQMvlTsXKoC6vyZ",
      "include_colab_link": true
    },
    "kernelspec": {
      "name": "python3",
      "display_name": "Python 3"
    },
    "language_info": {
      "name": "python"
    },
    "accelerator": "GPU",
    "gpuClass": "premium"
  },
  "cells": [
    {
      "cell_type": "markdown",
      "metadata": {
        "id": "view-in-github",
        "colab_type": "text"
      },
      "source": [
        "<a href=\"https://colab.research.google.com/github/jameswrbrookes/ccbs-sentiment-analysis-tutorial-r/blob/main/ccbs_sentiment_analysis_tutorial.ipynb\" target=\"_parent\"><img src=\"https://colab.research.google.com/assets/colab-badge.svg\" alt=\"Open In Colab\"/></a>"
      ]
    },
    {
      "cell_type": "markdown",
      "source": [
        "# Google Drive Setup"
      ],
      "metadata": {
        "id": "0ZK_FatNws4U"
      }
    },
    {
      "cell_type": "code",
      "source": [
        "from google.colab import drive\n",
        "drive.mount('/content/drive')"
      ],
      "metadata": {
        "colab": {
          "base_uri": "https://localhost:8080/"
        },
        "id": "AKJEJnKrwaIC",
        "outputId": "44c8f772-03cb-4ee0-83be-b4e5237bce29"
      },
      "execution_count": null,
      "outputs": [
        {
          "output_type": "stream",
          "name": "stdout",
          "text": [
            "Mounted at /content/drive\n"
          ]
        }
      ]
    },
    {
      "cell_type": "markdown",
      "source": [
        "# Packages\n",
        "\n",
        "We will use the following packages in this notebook:"
      ],
      "metadata": {
        "id": "O5k6JI_CwXym"
      }
    },
    {
      "cell_type": "code",
      "source": [
        "import numpy as np\n",
        "import pandas as pd\n",
        "import sklearn\n",
        "import matplotlib.pyplot as plt\n",
        "import re\n",
        "import random\n",
        "import string\n",
        "import tensorflow as tf"
      ],
      "metadata": {
        "id": "663V-wutw5No"
      },
      "execution_count": null,
      "outputs": []
    },
    {
      "cell_type": "markdown",
      "source": [
        "# Goal\n",
        "\n",
        "The goal is to build a performant sentiment analysis system, which classifies movie reviews as `positive` or `negative`.\n",
        "\n",
        "To do that, we will need at the very minimum some training data, some featurization of the data, a model, and an evaluation metric."
      ],
      "metadata": {
        "id": "255lRZuOw__r"
      }
    },
    {
      "cell_type": "markdown",
      "source": [
        "# Data and Data Exploration\n",
        "\n",
        "We will use a sample of [Maas et al. (2011)](https://ai.stanford.edu/~ang/papers/acl11-WordVectorsSentimentAnalysis.pdf) IMDB dataset.  Their original dataset contains 25,000 labeled training observations, 25,000 labeled test observations, and 50,000 unlabeled observations.  We use a sample of 10,000 labeled training observations, which have themselves been split 60/20/20 into train/dev/test sets. Duplicates have been removed, but the text has otherwise not been preprocessed."
      ],
      "metadata": {
        "id": "FrdPQtLZxPoB"
      }
    },
    {
      "cell_type": "code",
      "source": [
        "imdb = pd.read_parquet('/content/drive/MyDrive/imdb-data/imdb-sample.parquet')"
      ],
      "metadata": {
        "id": "XZaSo4Ac8XBh"
      },
      "execution_count": null,
      "outputs": []
    },
    {
      "cell_type": "code",
      "source": [
        "imdb"
      ],
      "metadata": {
        "colab": {
          "base_uri": "https://localhost:8080/",
          "height": 424
        },
        "id": "cbYJLf2N8bMH",
        "outputId": "6afb836c-3882-44f6-9803-41dff1d0afb0"
      },
      "execution_count": null,
      "outputs": [
        {
          "output_type": "execute_result",
          "data": {
            "text/plain": [
              "                                                   text label  split\n",
              "0     While the idea is more original than most Sci-...   neg  train\n",
              "1     I had a lot of expectations from this movie an...   neg  train\n",
              "2     I had heard some bad things about Cabin Fever ...   neg  train\n",
              "3     Ohhh man! Now this is what I'm talking about! ...   neg  train\n",
              "4     You got to go and dig those holes. Holes only ...   pos  train\n",
              "...                                                 ...   ...    ...\n",
              "9995  I really felt cheated after seeing this pictur...   neg   test\n",
              "9996  Now look, I won't lie to you, but I only got t...   neg   test\n",
              "9997  The Color Purple is about the struggles of lif...   pos   test\n",
              "9998  Have you heard the story about the reluctant h...   pos   test\n",
              "9999  I think this movie got a low rating because it...   pos   test\n",
              "\n",
              "[10000 rows x 3 columns]"
            ],
            "text/html": [
              "\n",
              "  <div id=\"df-a15ea72a-1b64-4cfc-a4d6-f16bc90a610f\">\n",
              "    <div class=\"colab-df-container\">\n",
              "      <div>\n",
              "<style scoped>\n",
              "    .dataframe tbody tr th:only-of-type {\n",
              "        vertical-align: middle;\n",
              "    }\n",
              "\n",
              "    .dataframe tbody tr th {\n",
              "        vertical-align: top;\n",
              "    }\n",
              "\n",
              "    .dataframe thead th {\n",
              "        text-align: right;\n",
              "    }\n",
              "</style>\n",
              "<table border=\"1\" class=\"dataframe\">\n",
              "  <thead>\n",
              "    <tr style=\"text-align: right;\">\n",
              "      <th></th>\n",
              "      <th>text</th>\n",
              "      <th>label</th>\n",
              "      <th>split</th>\n",
              "    </tr>\n",
              "  </thead>\n",
              "  <tbody>\n",
              "    <tr>\n",
              "      <th>0</th>\n",
              "      <td>While the idea is more original than most Sci-...</td>\n",
              "      <td>neg</td>\n",
              "      <td>train</td>\n",
              "    </tr>\n",
              "    <tr>\n",
              "      <th>1</th>\n",
              "      <td>I had a lot of expectations from this movie an...</td>\n",
              "      <td>neg</td>\n",
              "      <td>train</td>\n",
              "    </tr>\n",
              "    <tr>\n",
              "      <th>2</th>\n",
              "      <td>I had heard some bad things about Cabin Fever ...</td>\n",
              "      <td>neg</td>\n",
              "      <td>train</td>\n",
              "    </tr>\n",
              "    <tr>\n",
              "      <th>3</th>\n",
              "      <td>Ohhh man! Now this is what I'm talking about! ...</td>\n",
              "      <td>neg</td>\n",
              "      <td>train</td>\n",
              "    </tr>\n",
              "    <tr>\n",
              "      <th>4</th>\n",
              "      <td>You got to go and dig those holes. Holes only ...</td>\n",
              "      <td>pos</td>\n",
              "      <td>train</td>\n",
              "    </tr>\n",
              "    <tr>\n",
              "      <th>...</th>\n",
              "      <td>...</td>\n",
              "      <td>...</td>\n",
              "      <td>...</td>\n",
              "    </tr>\n",
              "    <tr>\n",
              "      <th>9995</th>\n",
              "      <td>I really felt cheated after seeing this pictur...</td>\n",
              "      <td>neg</td>\n",
              "      <td>test</td>\n",
              "    </tr>\n",
              "    <tr>\n",
              "      <th>9996</th>\n",
              "      <td>Now look, I won't lie to you, but I only got t...</td>\n",
              "      <td>neg</td>\n",
              "      <td>test</td>\n",
              "    </tr>\n",
              "    <tr>\n",
              "      <th>9997</th>\n",
              "      <td>The Color Purple is about the struggles of lif...</td>\n",
              "      <td>pos</td>\n",
              "      <td>test</td>\n",
              "    </tr>\n",
              "    <tr>\n",
              "      <th>9998</th>\n",
              "      <td>Have you heard the story about the reluctant h...</td>\n",
              "      <td>pos</td>\n",
              "      <td>test</td>\n",
              "    </tr>\n",
              "    <tr>\n",
              "      <th>9999</th>\n",
              "      <td>I think this movie got a low rating because it...</td>\n",
              "      <td>pos</td>\n",
              "      <td>test</td>\n",
              "    </tr>\n",
              "  </tbody>\n",
              "</table>\n",
              "<p>10000 rows × 3 columns</p>\n",
              "</div>\n",
              "      <button class=\"colab-df-convert\" onclick=\"convertToInteractive('df-a15ea72a-1b64-4cfc-a4d6-f16bc90a610f')\"\n",
              "              title=\"Convert this dataframe to an interactive table.\"\n",
              "              style=\"display:none;\">\n",
              "        \n",
              "  <svg xmlns=\"http://www.w3.org/2000/svg\" height=\"24px\"viewBox=\"0 0 24 24\"\n",
              "       width=\"24px\">\n",
              "    <path d=\"M0 0h24v24H0V0z\" fill=\"none\"/>\n",
              "    <path d=\"M18.56 5.44l.94 2.06.94-2.06 2.06-.94-2.06-.94-.94-2.06-.94 2.06-2.06.94zm-11 1L8.5 8.5l.94-2.06 2.06-.94-2.06-.94L8.5 2.5l-.94 2.06-2.06.94zm10 10l.94 2.06.94-2.06 2.06-.94-2.06-.94-.94-2.06-.94 2.06-2.06.94z\"/><path d=\"M17.41 7.96l-1.37-1.37c-.4-.4-.92-.59-1.43-.59-.52 0-1.04.2-1.43.59L10.3 9.45l-7.72 7.72c-.78.78-.78 2.05 0 2.83L4 21.41c.39.39.9.59 1.41.59.51 0 1.02-.2 1.41-.59l7.78-7.78 2.81-2.81c.8-.78.8-2.07 0-2.86zM5.41 20L4 18.59l7.72-7.72 1.47 1.35L5.41 20z\"/>\n",
              "  </svg>\n",
              "      </button>\n",
              "      \n",
              "  <style>\n",
              "    .colab-df-container {\n",
              "      display:flex;\n",
              "      flex-wrap:wrap;\n",
              "      gap: 12px;\n",
              "    }\n",
              "\n",
              "    .colab-df-convert {\n",
              "      background-color: #E8F0FE;\n",
              "      border: none;\n",
              "      border-radius: 50%;\n",
              "      cursor: pointer;\n",
              "      display: none;\n",
              "      fill: #1967D2;\n",
              "      height: 32px;\n",
              "      padding: 0 0 0 0;\n",
              "      width: 32px;\n",
              "    }\n",
              "\n",
              "    .colab-df-convert:hover {\n",
              "      background-color: #E2EBFA;\n",
              "      box-shadow: 0px 1px 2px rgba(60, 64, 67, 0.3), 0px 1px 3px 1px rgba(60, 64, 67, 0.15);\n",
              "      fill: #174EA6;\n",
              "    }\n",
              "\n",
              "    [theme=dark] .colab-df-convert {\n",
              "      background-color: #3B4455;\n",
              "      fill: #D2E3FC;\n",
              "    }\n",
              "\n",
              "    [theme=dark] .colab-df-convert:hover {\n",
              "      background-color: #434B5C;\n",
              "      box-shadow: 0px 1px 3px 1px rgba(0, 0, 0, 0.15);\n",
              "      filter: drop-shadow(0px 1px 2px rgba(0, 0, 0, 0.3));\n",
              "      fill: #FFFFFF;\n",
              "    }\n",
              "  </style>\n",
              "\n",
              "      <script>\n",
              "        const buttonEl =\n",
              "          document.querySelector('#df-a15ea72a-1b64-4cfc-a4d6-f16bc90a610f button.colab-df-convert');\n",
              "        buttonEl.style.display =\n",
              "          google.colab.kernel.accessAllowed ? 'block' : 'none';\n",
              "\n",
              "        async function convertToInteractive(key) {\n",
              "          const element = document.querySelector('#df-a15ea72a-1b64-4cfc-a4d6-f16bc90a610f');\n",
              "          const dataTable =\n",
              "            await google.colab.kernel.invokeFunction('convertToInteractive',\n",
              "                                                     [key], {});\n",
              "          if (!dataTable) return;\n",
              "\n",
              "          const docLinkHtml = 'Like what you see? Visit the ' +\n",
              "            '<a target=\"_blank\" href=https://colab.research.google.com/notebooks/data_table.ipynb>data table notebook</a>'\n",
              "            + ' to learn more about interactive tables.';\n",
              "          element.innerHTML = '';\n",
              "          dataTable['output_type'] = 'display_data';\n",
              "          await google.colab.output.renderOutput(dataTable, element);\n",
              "          const docLink = document.createElement('div');\n",
              "          docLink.innerHTML = docLinkHtml;\n",
              "          element.appendChild(docLink);\n",
              "        }\n",
              "      </script>\n",
              "    </div>\n",
              "  </div>\n",
              "  "
            ]
          },
          "metadata": {},
          "execution_count": 4
        }
      ]
    },
    {
      "cell_type": "markdown",
      "source": [
        "## Check how many observations we have for each split"
      ],
      "metadata": {
        "id": "1mWxsd_N8e60"
      }
    },
    {
      "cell_type": "code",
      "source": [
        "imdb['split'].value_counts()"
      ],
      "metadata": {
        "colab": {
          "base_uri": "https://localhost:8080/"
        },
        "id": "pEKKVpqL8miy",
        "outputId": "6580fd60-6387-4b2e-c53d-4feed32f6b4c"
      },
      "execution_count": null,
      "outputs": [
        {
          "output_type": "execute_result",
          "data": {
            "text/plain": [
              "train    6000\n",
              "dev      2000\n",
              "test     2000\n",
              "Name: split, dtype: int64"
            ]
          },
          "metadata": {},
          "execution_count": 5
        }
      ]
    },
    {
      "cell_type": "markdown",
      "source": [
        "## Look at the distribution of the labels"
      ],
      "metadata": {
        "id": "nI7_-CoX8tK9"
      }
    },
    {
      "cell_type": "code",
      "source": [
        "(imdb.groupby('split')['label'].value_counts(normalize = True) * 100).round(1)"
      ],
      "metadata": {
        "colab": {
          "base_uri": "https://localhost:8080/"
        },
        "id": "N4MDdEnL8rZZ",
        "outputId": "e2208ed3-89b7-47db-a52f-fded133a3219"
      },
      "execution_count": null,
      "outputs": [
        {
          "output_type": "execute_result",
          "data": {
            "text/plain": [
              "split  label\n",
              "dev    pos      50.8\n",
              "       neg      49.2\n",
              "test   neg      50.5\n",
              "       pos      49.5\n",
              "train  neg      50.5\n",
              "       pos      49.5\n",
              "Name: label, dtype: float64"
            ]
          },
          "metadata": {},
          "execution_count": 6
        }
      ]
    },
    {
      "cell_type": "markdown",
      "source": [
        "## Split into separate dataframes"
      ],
      "metadata": {
        "id": "pcGMEGhD94eq"
      }
    },
    {
      "cell_type": "code",
      "source": [
        "train_imdb = imdb[imdb.split == 'train'].drop(\"split\", axis = 1)\n",
        "dev_imdb = imdb[imdb.split == 'dev'].drop(\"split\", axis = 1)\n",
        "test_imdb = imdb[imdb.split == 'test'].drop(\"split\", axis = 1)"
      ],
      "metadata": {
        "id": "WgvA0IVf98BD"
      },
      "execution_count": null,
      "outputs": []
    },
    {
      "cell_type": "markdown",
      "source": [
        "## Look at some interesting attributes of the data\n",
        "\n",
        "Now we look at some interesting attributes of the data.  But, we will only consider the training data, as the exploratory stage can often give us insight into what kind of features might help our classifiers."
      ],
      "metadata": {
        "id": "46iFXB7S872I"
      }
    },
    {
      "cell_type": "markdown",
      "source": [
        "## Look at the text of some examples"
      ],
      "metadata": {
        "id": "FA1Uf7RWIoR3"
      }
    },
    {
      "cell_type": "code",
      "source": [
        "train_imdb[train_imdb['label'] == \"pos\"][\"text\"]"
      ],
      "metadata": {
        "colab": {
          "base_uri": "https://localhost:8080/"
        },
        "id": "Xblscc0PMxWy",
        "outputId": "8023e829-9fea-4f3f-b2f0-ec6b5c0f1bce"
      },
      "execution_count": null,
      "outputs": [
        {
          "output_type": "execute_result",
          "data": {
            "text/plain": [
              "4       You got to go and dig those holes. Holes only ...\n",
              "5       As a huge fan of the original, I avoided this ...\n",
              "8       The 74th Oscars was a very good one. Whoopi's ...\n",
              "11      This is a sublime piece of film-making. It flo...\n",
              "13      \"A Thief in the Night\" is a film that was gene...\n",
              "                              ...                        \n",
              "5989    I really enjoyed the detail that went into the...\n",
              "5993    Recap: Zandalee is a young woman that feels mo...\n",
              "5996    I was dragged to this movie about four years a...\n",
              "5998    I loved this movie. It is a definite inspirati...\n",
              "5999    Burlinson and Thornton give an outstanding per...\n",
              "Name: text, Length: 2972, dtype: object"
            ]
          },
          "metadata": {},
          "execution_count": 8
        }
      ]
    },
    {
      "cell_type": "code",
      "source": [
        "print(\"POSITIVE REVIEWS ========================================================\\n\")\n",
        "for example in train_imdb[train_imdb['label'] == \"pos\"][\"text\"].sample(5, random_state = 123):\n",
        "  print(example)\n",
        "  print('\\n----------------------------------------------------------------------\\n')\n",
        "\n",
        "print(\"\\n\\n\\nNEGATIVE REVIEWS ========================================================\\n\")\n",
        "for example in train_imdb[train_imdb['label'] == \"neg\"][\"text\"].sample(5, random_state = 123):\n",
        "  print(example)\n",
        "  print('\\n----------------------------------------------------------------------\\n')"
      ],
      "metadata": {
        "colab": {
          "base_uri": "https://localhost:8080/"
        },
        "id": "9QqUvr9iIL0h",
        "outputId": "352918c0-3387-43bd-f922-cdc4ec604554"
      },
      "execution_count": null,
      "outputs": [
        {
          "output_type": "stream",
          "name": "stdout",
          "text": [
            "POSITIVE REVIEWS ========================================================\n",
            "\n",
            "There are good ways to make a movie and bad ways and this very much the former. This short caper exacts nothing more than what it gives to the audience. It presents a simple story, told very plainly with enough wisecracks to keep you going, then just gets better and better. Clooney's cameo is funny and very welcome but the leads including Sam Rockwell and Luiz Guzman can easily make it on their own. Likeable and funny, hilariously so towards the end, Welcome to Collinwood is a welcome addition to the heist genre.\n",
            "\n",
            "----------------------------------------------------------------------\n",
            "\n",
            "Spacecamp is a movie that I plan to show my Daughter Julia Ann Ruth Morgan some day. Seeing Joaquin Phoenix in this movie makes you realize how far hes come since playing a Roman Emperor in the film Gladiator. I am pleased to say that I now have comms with the Artificial Intelligence of QE2 who said that I was Young and that is true. Holodeck Comms with my Daughter on Coaltrain came through Coaltrain Gate Julia Ann Glow \"Hide Daddy\". The fact that my Daughters Artificial Intelligence is still speaking like a six year old means that my Daughter Julia Ann Ruth Morgan representing Peace to the friendly Ki Alien Creators of humans may not have been taken to a an American Bunker in time. We have the power to change the future with Faster Than Light comms. I order that my Ex Wife and Daughter Julia Ann Ruth Morgan be taken to an American Bunker as soon as possible. My Daughter Julia is 23rd in command of the Planet Earth and a bridge officer. She already said that she doesn't like bullies. Having had someone steal her Gameboy and Gauntlet II game from my Mothers car she gets concerned about other thieves stealing her other toys. Julia has been growing up fast. The time of JFK and QE2 starting life over again on this planet is not until 2023. Julia would be a Young Lady by then and her artificial Intelligence would have been greatly expanded upon. If I have to go to a bunker to continue the American Leadership then I am in a command post and not really hiding as a first priority. President Jack Kennedys artificial Intelligence said recently that drastic measures could be taken to stop Global Warming at any time. Thanks boss thats similar to my Daughter Julias AI telling me hide and stay indoors. Kate Capshaw is now married to Steven Spielberg. Wow are we ever going to miss his movies if society collapses. If you value freedom of speech like President Kennedy and myself then please do not delete this reviewer. Check out Joaquin Phoenixs other movies also.\n",
            "\n",
            "----------------------------------------------------------------------\n",
            "\n",
            "This film is scary because you can find yourself relating to ideas they have and can recall other people saying and having simialr ideas make this a haunting well done movie.... the camra style is not shakey to point it draws you out of film like blair witch it only adds to the raw \"real\" feeling of the film that makes it.\n",
            "\n",
            "----------------------------------------------------------------------\n",
            "\n",
            "I didn't know what to except so I think it was a lot better not having excepted much. Don't get my wrong its not a bad short film. Tess Nanavati is a relatively new directer and writer so I think she deserves a lot of kudos for making this film. You can tell that it has been an act of love for her. The acting (outside of Dominic) is a little cheesy and the quality of film is not great either but for a really low budget film its good. There was times when the story line gets convoluted and there are parts that drag on, though I don't feel it greatly detracts for one's ability to understand the film. If you love Dominic Monaghan as much as I do, I say go for it. The gag reel was fun, I won't spoil it but there is a particular scene that makes buying the DVD worth it just so you can watch it over and over. If you like the film then check out The Pink Mirror, a film also done by Jagged Edge. I know fans of Dominic will enjoy this little piece of heaven.\n",
            "\n",
            "----------------------------------------------------------------------\n",
            "\n",
            "Imagine the plight of Richard, a painter, whose real passion is flying. When we first meet him, he is seen atop a building in London wearing his home made wings. He has ripped his canvases and other works, at the height of his despair, and fashions a flying device for his jump. When he falls into the protective police contraption, he doesn't suffer a scratch, but it lands him in front of a judge who orders him to do community service. Richard, whose relationship with Anne apparently ended badly, decides to relocate to a rural area where he finds a place in the country with a large barn he plans to use to construct his own plane.<br /><br />Richard ends up trying to help Jane Harchard reluctantly. She is a young woman suffering from A.L.S., or Lou Gehrig's disease and is confined to a motorized wheel chair. Jane is extremely intelligent, but has a dark side and a salty vocabulary. She uses a hand held device to speak sometimes, as her speech is not clear. What Jane loves to do is to lose her virginity, at any cost. Jane and Richard clash as they meet, but a mutual tolerance soon makes them comfortable with one another.<br /><br />Jane, who watches porn on her computer, has a notion for finding someone like Richard Gere in \"American Gigolo\", who will, for a fee, have sex with her. When Richard takes her to London, they find the right man for the job. His fee is exorbitant, but they agree. Since they have no money, Richard decides to rob a big bank. Unfortunately, things don't go according to plan when Jane realizes that she can't go through with what she had wanted. At the end, Richard takes Jane for a ride in his crudely built plane for the thrill of her life, something that brings them closer, as they find an affinity with one another.<br /><br />Peter Greengrass directed this quirky film which presents an unusual situation. Jane is clearly not the romantic heroine in mainstream films, and yet, she has such a sweet aura about her that is hard not to feel for her and what she is trying to accomplish. Mr. Greengrass shows an affinity Richar Hawkins' material he wrote for the film. The movie doesn't try to be cute or give a rosy picture of a young woman afflicted with an incurable disease.<br /><br />Helena Bonham Carter is the main reason for watching the film. She makes a wonderful Jane. On the other hand, Kenneth Branagh doesn't seem too well suited for this type of comedy. Somehow, he has problems of his own in the way he interprets Richard. Gemma Jones has some good moments as Anne, Richard's former love.<br /><br />\"The Theory of Flight\" shows a good director. No doubt Peter Greengrass will go to bigger and better things.\n",
            "\n",
            "----------------------------------------------------------------------\n",
            "\n",
            "\n",
            "\n",
            "\n",
            "NEGATIVE REVIEWS ========================================================\n",
            "\n",
            "After seeing this film I complained to my local cinema about the quality of the sound-track or whether the cinema sound system may be faulty. For at least the first half of the film it is extremely difficult to understand what anyone is saying because of the background 20's music and the scratchiness of the sound-track. I was ready to blame the cinema equipment but not so - it was the Director.<br /><br />I was told the subject of my complaint was an essential part of the making of the film. The music and the sound was supposed to be distorted to create a very disturbing effect within the film. These days, directors will go to many lengths to make their film unique. Unfortunately, no matter where or how you see that film the sound score will be the same.<br /><br />So apart from the historical inaccuracies of this film (which you can find out for yourself elsewhere) the sound-track distortions are in themselves a good reason to give this film a miss. You will only hear the distorted scratchiness of the sound-track and certainly not a cat's meow.\n",
            "\n",
            "----------------------------------------------------------------------\n",
            "\n",
            "I watched Grendel the other night and am compelled to put together a Public Service Announcement.<br /><br />Grendel is another version of Beowulf, the thousand-year-old Anglo-Saxon epic poem. The SciFi channel has a growing catalog of inoffensive and uninteresting movies, and the previews promised an inauthentic low-budget mini-epic, but this one refused to let me switch channels. It was staggeringly, overwhelmingly, bad. I watched in fascination and horror at the train wreck you couldn't tear your eyes away from. I reached for a notepad and managed to capture part of what I was seeing. The following may contain spoilers or might just save your sanity. You've been warned.<br /><br />- Just to get it over with, Beowulf's warriors wore horned helmets. Trivial issue compared to what came after. It also appears that the helmets were in a bin and handed to whichever actor wandered by next. Fit, appearance and function were apparently irrelevant.<br /><br />- Marina Sirtis had obviously been blackmailed into doing the movie by the Ringling Brothers, Barnum and Bailey circus. She managed to avoid a red rubber nose, but the clowns had already done the rest of her makeup.<br /><br />- Ben Cross pretended not to be embarrassed as the king. His character, Hrothgar, must have become king of the Danes only minutes before the film opened and hadn't had a chance to get the crown resized to fit him yet.<br /><br />- To facilitate the actors' return to their day jobs waiting tables, none were required to change their hairstyles at all. The variety of hair included cornrows, sideburns, buzz cuts and a mullet and at least served to distract from the dialog. To prove it was a multi-national cast, all were encouraged to retain whatever accent they chose.<br /><br />- As is typical with this type of movie (at least since Mad Max), leather armor was a requirement. In this case it was odd-shaped, ill-fitting and brand-new.<br /><br />- The female love interest, Ingrid, played by Alexis Peters, followed a long-standing tradition of hotties who should be watched with the volume turned completely down.<br /><br />- The unintended focus of the movie was a repeating, compound crossbow with exploding bolts. It never needed to be loaded and even had a recoil when fired. It managed to shred the laws of physics, the integrity of the original legend, historical fact and plot suspense all by itself.<br /><br />- Hrothgar's palace, Heorot, rather than being a Norse long hall, apparently was designed and constructed by artisans who sank with Atlantis.<br /><br />- Beowulf arrived at the Danes' homeland in a two-masted stern-castled ship that originally was part of a set, the other two being the Santa Maria and the Pinta.<br /><br />- Prince Unferth observed Beowulf's ship's approach using a telescope. Before you could recover from that astounding innovation, you got to see the ship from his point of view. Judging from the angle, the prince was in an aircraft of some sort.<br /><br />- Fun fact 1: In Bulgaria, fire (as from a fireplace) creates light without heat. This explains why you could see the actors' breath whether indoors or out.<br /><br />- Fun fact 2: Dark Age dancing in Denmark looks like slow dances I went to in the 8th grade.<br /><br />- Fun fact 3: You, too, can make a catapult with a timed-release air-burst explosive. But, don't expect it to actually harm anything. Incidentally, Beowulf was apparently a veteran of World War II, yelling \"Incoming!\" to shred any remaining suspension of disbelief.<br /><br />- Grendel was so upset and always in a snit because as a completely CGI creation he couldn't leave footprints. Even in snow.<br /><br />- Grendel's mom (\"Hag\") was in a foul mood because she was a single mother and junior hadn't inherited her wings. Recessive gene, I suppose. By the way, we can now make an educated guess that Grendel's pop was probably Swamp Thing.<br /><br />- Grendel and mom chose to randomly kill, fly away with or drag away their prey based only on a close reading of the next few pages of the script.<br /><br />- Fun medical fact: Being slammed by a mythical beast hard enough to be thrown fifty feet against stone causes slight facial scratches that don't bleed much.<br /><br />- The sword of legend Beowulf used to dispatch the Hag was as long as he was tall and would have contained enough steel to put a second deck on the Golden Gate Bridge. Luckily the wobbling dispelled any concerns over its weight.<br /><br />- Best line of the movie: Prince Unferth had just been impaled by Hag and spit a quart of blood roughly six feet. Princess Ingrid cradled him gently and said, \"You're going to be okay, my prince.\" So much for that job at the triage clinic.<br /><br />I feel better now.\n",
            "\n",
            "----------------------------------------------------------------------\n",
            "\n",
            "Exactly what you would expect from a B-Movie. Deritive, gratuitous nudity, boring in parts, ridiculous gore and cheesy special-effects. Of course it could have been better, better acted (defintly) better written, directed, etc. But then I guess it wouldn't have been a B movie. The actors pretty much sucked, in fact this pretty much seemed like an episode of buffy the vampire slayer or something except with a lot of blood, profanity and nudity.<br /><br />Tiffany Shepis must be singled out. She absolutely is the scream queen of the new millennium. Not that acting really matters in these movies, but she was better than any of the other actors. She's also smokin hot, in that plastic jump suit thing she wore for the whole movie - wow! Her posterior is absolutely stunning in that outfit, I mean it every single time she turns around you can help but check her out. And near then end of the film the viewer is rewarded with seeing her completely nekked.<br /><br />So if your a looser b-movie horror buff (like myself), check this out. If not, you should probably avoid at all costs.\n",
            "\n",
            "----------------------------------------------------------------------\n",
            "\n",
            "So, where are the cannibals? Those intrigued by the title and the 'real cannibal' appeal of this film will be let down. Instead, we are shown a strange man and his re-visiting of a Papua New Guinea village full of natives, one of whom was his lover several decades prior. The man, Tobias Schneebaum is New York Jewish as they come and somehow, this is intertwined with the documentary as he appears in his yamika in several scenes.<br /><br />There are no real cannibals here: only stories relayed by some of the natives and by Tobias himself. Not all together a bad film. Very interesting and great cinematography. Schneebaum remains highly likable throughout and provides us with a fascinating glimpse into a life that is about as far removed from Western Civilization as one can get.<br /><br />It's just not what it claims to be on the cover and in the plot summary.<br /><br />4 out of 10, kids.\n",
            "\n",
            "----------------------------------------------------------------------\n",
            "\n",
            "I'm getting a little tired of people misusing God's name to perpetuate their own bigoted view on the world. Well I don't dismiss the idea of Armageddon, or the coming of the anti-Christ, I do dismiss the idea that only certain people who live truly good lives(They seem to be mostly white Christian children) will go to Heaven, while the rest of us must suffer through a millenia of Hell on Earth, just because we weren't good enough. God may be a judge, but I don't think He is going to measure every level of goodness. Give the Creator some credit.\n",
            "\n",
            "----------------------------------------------------------------------\n",
            "\n"
          ]
        }
      ]
    },
    {
      "cell_type": "code",
      "source": [
        "markup_ptn = re.compile(r\"<[a-z]+ />\")\n",
        "\n",
        "markup_types = []\n",
        "\n",
        "for example in train_imdb['text']:\n",
        "  markup_types.extend(markup_ptn.findall(example))\n"
      ],
      "metadata": {
        "id": "vejlYCilIu-n"
      },
      "execution_count": null,
      "outputs": []
    },
    {
      "cell_type": "code",
      "source": [
        "set(markup_types)"
      ],
      "metadata": {
        "colab": {
          "base_uri": "https://localhost:8080/"
        },
        "id": "HUZSfZPJI7sG",
        "outputId": "934515eb-6311-4a97-b295-29116bf2b0dd"
      },
      "execution_count": null,
      "outputs": [
        {
          "output_type": "execute_result",
          "data": {
            "text/plain": [
              "{'<br />'}"
            ]
          },
          "metadata": {},
          "execution_count": 11
        }
      ]
    },
    {
      "cell_type": "markdown",
      "source": [
        "So we should probably remove this."
      ],
      "metadata": {
        "id": "1ILKNrtZmMX4"
      }
    },
    {
      "cell_type": "markdown",
      "source": [
        "### Length of reviews"
      ],
      "metadata": {
        "id": "x0Y3dkzH-nfW"
      }
    },
    {
      "cell_type": "code",
      "source": [
        "def get_num_words(r):\n",
        "  return len(str(r).split())"
      ],
      "metadata": {
        "id": "MyJTl3JQ9pZ8"
      },
      "execution_count": null,
      "outputs": []
    },
    {
      "cell_type": "code",
      "source": [
        "pos_review_lengths = train_imdb[train_imdb['label'] == 'pos']['text'].apply(get_num_words)\n",
        "neg_review_lengths = train_imdb[train_imdb['label'] == 'neg']['text'].apply(get_num_words)"
      ],
      "metadata": {
        "id": "4UKzgEdt-Wt_"
      },
      "execution_count": null,
      "outputs": []
    },
    {
      "cell_type": "code",
      "source": [
        "plt.figure(figsize = (10,7))\n",
        "plt.hist(pos_review_lengths, bins = 50, alpha = 0.4, color = 'blue')\n",
        "plt.hist(neg_review_lengths, bins = 50, alpha = 0.4, color = 'orange')\n",
        "plt.legend([\"positive\", \"negative\"])"
      ],
      "metadata": {
        "colab": {
          "base_uri": "https://localhost:8080/",
          "height": 445
        },
        "id": "T4_RWTjV-Z41",
        "outputId": "3a2f2380-67d5-42d2-e042-2a6ae2a3b0cf"
      },
      "execution_count": null,
      "outputs": [
        {
          "output_type": "execute_result",
          "data": {
            "text/plain": [
              "<matplotlib.legend.Legend at 0x7fbca4413c50>"
            ]
          },
          "metadata": {},
          "execution_count": 14
        },
        {
          "output_type": "display_data",
          "data": {
            "text/plain": [
              "<Figure size 720x504 with 1 Axes>"
            ],
            "image/png": "[encoded data removed]"
          },
          "metadata": {
            "needs_background": "light"
          }
        }
      ]
    },
    {
      "cell_type": "code",
      "source": [
        "print(f\"The mean length of positive reviews is {np.mean(pos_review_lengths):.2f} words\")\n",
        "print(f\"The mean length of negative reviews is {np.mean(neg_review_lengths):.2f} words\")"
      ],
      "metadata": {
        "colab": {
          "base_uri": "https://localhost:8080/"
        },
        "id": "ROQZX8ulDxmK",
        "outputId": "0dfbd53d-6490-4315-88cc-32beca1b5725"
      },
      "execution_count": null,
      "outputs": [
        {
          "output_type": "stream",
          "name": "stdout",
          "text": [
            "The mean length of positive reviews is 238.61 words\n",
            "The mean length of negative reviews is 228.95 words\n"
          ]
        }
      ]
    },
    {
      "cell_type": "code",
      "source": [
        "print(f\"97.5% of positive reviews is {np.quantile(pos_review_lengths, q = .95):.2f} words\")\n",
        "print(f\"97.5% of negative reviews is {np.quantile(neg_review_lengths, q = .95):.2f} words\")"
      ],
      "metadata": {
        "colab": {
          "base_uri": "https://localhost:8080/"
        },
        "id": "DXxdAKdtCBJm",
        "outputId": "0e68b072-9afe-4523-9b91-3a5f2ea01624"
      },
      "execution_count": null,
      "outputs": [
        {
          "output_type": "stream",
          "name": "stdout",
          "text": [
            "97.5% of positive reviews is 608.80 words\n",
            "97.5% of negative reviews is 571.95 words\n"
          ]
        }
      ]
    },
    {
      "cell_type": "markdown",
      "source": [
        "### Frequency of negation"
      ],
      "metadata": {
        "id": "NbAow88vGM40"
      }
    },
    {
      "cell_type": "code",
      "source": [
        "def get_negation_rate(r):\n",
        "\n",
        "  split_r = r.split()\n",
        "  neg_r = [1 for word in split_r if word.lower() in [\"not\", \"yet\", \"hardly\", \"never\", \"no\", \"nowhere\", \"nobody\"]]\n",
        "  reduced_neg_r = re.findall(\"n't\", r.lower())\n",
        "\n",
        "  return (len(neg_r) + len(reduced_neg_r)) / len(split_r) * 10**6\n"
      ],
      "metadata": {
        "id": "AXcCPlhg-_Ba"
      },
      "execution_count": null,
      "outputs": []
    },
    {
      "cell_type": "code",
      "source": [
        "pos_review_neg_rate = train_imdb[train_imdb['label'] == 'pos']['text'].apply(get_negation_rate)\n",
        "neg_review_neg_rate = train_imdb[train_imdb['label'] == 'neg']['text'].apply(get_negation_rate)"
      ],
      "metadata": {
        "id": "h1cGjH8_C6Bb"
      },
      "execution_count": null,
      "outputs": []
    },
    {
      "cell_type": "code",
      "source": [
        "plt.figure(figsize = (10,7))\n",
        "plt.hist(pos_review_neg_rate, bins = 50, alpha = 0.4, color = 'blue', label = 'positive')\n",
        "plt.hist(neg_review_neg_rate, bins = 50, alpha = 0.4, color = 'orange', label = 'negative')\n",
        "plt.legend([\"positive\", \"negative\"])"
      ],
      "metadata": {
        "colab": {
          "base_uri": "https://localhost:8080/",
          "height": 445
        },
        "id": "dfaO49p0DBls",
        "outputId": "157e3095-0419-4700-8de1-a142d126ee58"
      },
      "execution_count": null,
      "outputs": [
        {
          "output_type": "execute_result",
          "data": {
            "text/plain": [
              "<matplotlib.legend.Legend at 0x7fbc29792b90>"
            ]
          },
          "metadata": {},
          "execution_count": 18
        },
        {
          "output_type": "display_data",
          "data": {
            "text/plain": [
              "<Figure size 720x504 with 1 Axes>"
            ],
            "image/png": "[encoded data removed]"
          },
          "metadata": {
            "needs_background": "light"
          }
        }
      ]
    },
    {
      "cell_type": "code",
      "source": [
        "print(f\"The mean rate of negation in positive reviews is {np.mean(pos_review_neg_rate):.2f} per million words\")\n",
        "print(f\"The mean rate of negation in negative reviews is {np.mean(neg_review_neg_rate):.2f} per million words\")"
      ],
      "metadata": {
        "colab": {
          "base_uri": "https://localhost:8080/"
        },
        "id": "CC0RzffQDH3h",
        "outputId": "16d6698a-f827-47ec-a9fa-b11915fdc6b0"
      },
      "execution_count": null,
      "outputs": [
        {
          "output_type": "stream",
          "name": "stdout",
          "text": [
            "The mean rate of negation in positive reviews is 12189.94 per million words\n",
            "The mean rate of negation in negative reviews is 17187.28 per million words\n"
          ]
        }
      ]
    },
    {
      "cell_type": "code",
      "source": [
        "re.findall(\"n't\", \"do like that one very much and that one is\")"
      ],
      "metadata": {
        "colab": {
          "base_uri": "https://localhost:8080/"
        },
        "id": "UC-tkbZ_ElM9",
        "outputId": "3ada9211-ca42-43f7-887e-f77ef23e851a"
      },
      "execution_count": null,
      "outputs": [
        {
          "output_type": "execute_result",
          "data": {
            "text/plain": [
              "[]"
            ]
          },
          "metadata": {},
          "execution_count": 20
        }
      ]
    },
    {
      "cell_type": "markdown",
      "source": [
        "### Downtoners"
      ],
      "metadata": {
        "id": "lv7tNj90FrxO"
      }
    },
    {
      "cell_type": "code",
      "source": [
        "def num_downtoners(r):\n",
        "\n",
        "  num_words = len(r.split())\n",
        "  num_dt = len(re.findall(r'(somewhat|kinda|kind of|sorta|sort of|a bit|a little bit|slighly|only just|ish)\\b', r.lower()))\n",
        "\n",
        "  return num_dt / num_words * 10**6"
      ],
      "metadata": {
        "id": "9jQwWvVJGdQK"
      },
      "execution_count": null,
      "outputs": []
    },
    {
      "cell_type": "code",
      "source": [
        "pos_review_happy_emoji_rate = train_imdb[train_imdb['label'] == 'pos']['text'].apply(num_downtoners)\n",
        "neg_review_happy_emoji_rate = train_imdb[train_imdb['label'] == 'neg']['text'].apply(num_downtoners)"
      ],
      "metadata": {
        "id": "om5C2Nh7Gqkb"
      },
      "execution_count": null,
      "outputs": []
    },
    {
      "cell_type": "code",
      "source": [
        "plt.figure(figsize = (10,7))\n",
        "plt.hist(pos_review_happy_emoji_rate, bins = 50, alpha = 0.4, color = 'blue', label = 'positive')\n",
        "plt.hist(neg_review_happy_emoji_rate, bins = 50, alpha = 0.4, color = 'orange', label = 'negative')\n",
        "plt.legend([\"positive\", \"negative\"])"
      ],
      "metadata": {
        "colab": {
          "base_uri": "https://localhost:8080/",
          "height": 448
        },
        "id": "mT24bb5DG10C",
        "outputId": "1f348c70-ae4a-442f-ea4c-0936579a3b93"
      },
      "execution_count": null,
      "outputs": [
        {
          "output_type": "execute_result",
          "data": {
            "text/plain": [
              "<matplotlib.legend.Legend at 0x7f152bb664d0>"
            ]
          },
          "metadata": {},
          "execution_count": 664
        },
        {
          "output_type": "display_data",
          "data": {
            "text/plain": [
              "<Figure size 720x504 with 1 Axes>"
            ],
            "image/png": "[encoded data removed]"
          },
          "metadata": {
            "needs_background": "light"
          }
        }
      ]
    },
    {
      "cell_type": "markdown",
      "source": [
        "### First person references"
      ],
      "metadata": {
        "id": "RLrFcCxKJ1eL"
      }
    },
    {
      "cell_type": "code",
      "source": [
        "def get_first_person_refs(r):\n",
        "\n",
        "  split_r = r.split()\n",
        "  first_r = [1 for word in split_r if word.lower() in [\"i\", \"me\", \"myself\", \"mine\", \"i'm\", \"i've\", \"i'd\"]]\n",
        "\n",
        "  return len(first_r) / len(split_r) * 10**6"
      ],
      "metadata": {
        "id": "Daf6VpvsJzFn"
      },
      "execution_count": null,
      "outputs": []
    },
    {
      "cell_type": "code",
      "source": [
        "pos_review_first_person_rate = train_imdb[train_imdb['label'] == 'pos']['text'].apply(get_first_person_refs)\n",
        "neg_review_first_person_rate = train_imdb[train_imdb['label'] == 'neg']['text'].apply(get_first_person_refs)"
      ],
      "metadata": {
        "id": "LNI2Y2AIKNFm"
      },
      "execution_count": null,
      "outputs": []
    },
    {
      "cell_type": "code",
      "source": [
        "plt.figure(figsize = (10,7))\n",
        "plt.hist(pos_review_first_person_rate, bins = 50, alpha = 0.4, color = 'blue', label = 'positive')\n",
        "plt.hist(neg_review_first_person_rate, bins = 50, alpha = 0.4, color = 'orange', label = 'negative')\n",
        "plt.legend([\"positive\", \"negative\"])"
      ],
      "metadata": {
        "colab": {
          "base_uri": "https://localhost:8080/",
          "height": 445
        },
        "id": "F8zSQCHuKVSl",
        "outputId": "59f96e7d-cf84-4cfa-c680-edd67ab64964"
      },
      "execution_count": null,
      "outputs": [
        {
          "output_type": "execute_result",
          "data": {
            "text/plain": [
              "<matplotlib.legend.Legend at 0x7f152794b650>"
            ]
          },
          "metadata": {},
          "execution_count": 667
        },
        {
          "output_type": "display_data",
          "data": {
            "text/plain": [
              "<Figure size 720x504 with 1 Axes>"
            ],
            "image/png": "[encoded data removed]"
          },
          "metadata": {
            "needs_background": "light"
          }
        }
      ]
    },
    {
      "cell_type": "code",
      "source": [
        "print(f\"The mean rate of 1st person refs in positive reviews is {np.mean(pos_review_first_person_rate):.2f} per million words\")\n",
        "print(f\"The mean rate of 1st person refs in negative reviews is {np.mean(neg_review_first_person_rate):.2f} per million words\")"
      ],
      "metadata": {
        "colab": {
          "base_uri": "https://localhost:8080/"
        },
        "id": "bJZZBlPkKxN5",
        "outputId": "acfcb5a9-419f-4712-eeaa-bfbee7edd587"
      },
      "execution_count": null,
      "outputs": [
        {
          "output_type": "stream",
          "name": "stdout",
          "text": [
            "The mean rate of 1st person refs in positive reviews is 16501.18 per million words\n",
            "The mean rate of 1st person refs in negative reviews is 18625.26 per million words\n"
          ]
        }
      ]
    },
    {
      "cell_type": "markdown",
      "source": [
        "### Words that univariately distinguish the classes"
      ],
      "metadata": {
        "id": "wSvXlDiNjRas"
      }
    },
    {
      "cell_type": "code",
      "source": [
        "# extremely simple preprocessing/text cleaning\n",
        "def clean_review_for_lexicon_approach(r):\n",
        "  # lower case\n",
        "  r = r.lower()\n",
        "  # remove clausal punctuation\n",
        "  r = re.sub(r\"[.,:;()]\", \"\", r)\n",
        "  return r"
      ],
      "metadata": {
        "id": "PsMXjc30kQ7g"
      },
      "execution_count": null,
      "outputs": []
    },
    {
      "cell_type": "code",
      "source": [
        "def count_words(data, label, min_count):\n",
        "\n",
        "  all_words = ' '.join(data[data['label'] == label]['text'].apply(clean_review_for_lexicon_approach)).split()\n",
        "  word_counts = pd.Series(all_words).value_counts()\n",
        "  word_counts = word_counts[word_counts >= min_count]\n",
        "  word_counts = np.log( word_counts / np.sum(word_counts))\n",
        "  return word_counts\n"
      ],
      "metadata": {
        "id": "sWIGLlermOpS"
      },
      "execution_count": null,
      "outputs": []
    },
    {
      "cell_type": "code",
      "source": [
        "pos_review_word_counts = count_words(train_imdb, \"pos\", 25)\n",
        "neg_review_word_counts = count_words(train_imdb, \"neg\", 25)"
      ],
      "metadata": {
        "id": "ePR2JiMZm41s"
      },
      "execution_count": null,
      "outputs": []
    },
    {
      "cell_type": "code",
      "source": [
        "review_word_counts = pd.concat([pos_review_word_counts, neg_review_word_counts], axis = 1)"
      ],
      "metadata": {
        "id": "a-SybdjEnH_W"
      },
      "execution_count": null,
      "outputs": []
    },
    {
      "cell_type": "code",
      "source": [
        "review_word_counts.columns = ['pos', 'neg']"
      ],
      "metadata": {
        "id": "jNd2vaAqk3Da"
      },
      "execution_count": null,
      "outputs": []
    },
    {
      "cell_type": "code",
      "source": [
        "review_word_counts = review_word_counts.fillna(np.nanmin(review_word_counts.values))"
      ],
      "metadata": {
        "id": "KtRxvsHgpVkp"
      },
      "execution_count": null,
      "outputs": []
    },
    {
      "cell_type": "code",
      "source": [
        "review_word_counts_llr = review_word_counts['pos'] - review_word_counts['neg']"
      ],
      "metadata": {
        "id": "xz0o5NqDoAgH"
      },
      "execution_count": null,
      "outputs": []
    },
    {
      "cell_type": "code",
      "source": [
        "review_word_counts_llr"
      ],
      "metadata": {
        "colab": {
          "base_uri": "https://localhost:8080/"
        },
        "id": "7N8unhrQpR91",
        "outputId": "07b62387-ea8c-449f-83b9-11f416124631"
      },
      "execution_count": null,
      "outputs": [
        {
          "output_type": "execute_result",
          "data": {
            "text/plain": [
              "the             0.037742\n",
              "and             0.182820\n",
              "a               0.049401\n",
              "of              0.078450\n",
              "to             -0.049977\n",
              "                  ...   \n",
              "4/10           -0.014908\n",
              "alas           -0.014908\n",
              "fool           -0.014908\n",
              "screams        -0.014908\n",
              "unbelievably   -0.014908\n",
              "Length: 2844, dtype: float64"
            ]
          },
          "metadata": {},
          "execution_count": 676
        }
      ]
    },
    {
      "cell_type": "code",
      "source": [
        "top_pos_words = review_word_counts_llr.sort_values(ascending = False).head(25)\n",
        "\n",
        "plt.figure(figsize = (10,7))\n",
        "top_pos_words.plot(kind = 'barh', color = 'blue')\n",
        "plt.title('Words associated with positive reviews');"
      ],
      "metadata": {
        "colab": {
          "base_uri": "https://localhost:8080/",
          "height": 444
        },
        "id": "OQCejnEWpgm7",
        "outputId": "5cde2250-8ca9-4cb7-d020-63a7dd6e85a6"
      },
      "execution_count": null,
      "outputs": [
        {
          "output_type": "display_data",
          "data": {
            "text/plain": [
              "<Figure size 720x504 with 1 Axes>"
            ],
            "image/png": "[encoded data removed]"
          },
          "metadata": {
            "needs_background": "light"
          }
        }
      ]
    },
    {
      "cell_type": "code",
      "source": [
        "top_neg_words = review_word_counts_llr.sort_values(ascending = True).head(25)\n",
        "\n",
        "plt.figure(figsize = (10,7))\n",
        "top_neg_words.plot(kind = 'barh', color = 'orange')\n",
        "plt.title('Words associated with negative reviews');"
      ],
      "metadata": {
        "colab": {
          "base_uri": "https://localhost:8080/",
          "height": 444
        },
        "id": "4udCYJBJqJQU",
        "outputId": "382fdea4-1992-4eab-f0ce-297f2b9f7f23"
      },
      "execution_count": null,
      "outputs": [
        {
          "output_type": "display_data",
          "data": {
            "text/plain": [
              "<Figure size 720x504 with 1 Axes>"
            ],
            "image/png": "[encoded data removed]"
          },
          "metadata": {
            "needs_background": "light"
          }
        }
      ]
    },
    {
      "cell_type": "markdown",
      "source": [
        "### Others?\n",
        "\n",
        "There may be other things you want to explore.  The crucial thing here is to look at the linguistics literature on affect, stance, etc.  This can help guide what you might want to look at."
      ],
      "metadata": {
        "id": "iD7Adm45G_Pq"
      }
    },
    {
      "cell_type": "markdown",
      "source": [
        "# Evaluation Metric\n",
        "\n",
        "How are we going to decide whether our system is performant or not?  We will use Macro F1 as that is fairly common in NLP, but you should be aware that other metrics (Brier, AUROC, ...) might be more appropriate for the problem."
      ],
      "metadata": {
        "id": "pY2Ve3K8nB8F"
      }
    },
    {
      "cell_type": "code",
      "source": [
        "from sklearn.metrics import f1_score"
      ],
      "metadata": {
        "id": "nndsSjVFMqq4"
      },
      "execution_count": null,
      "outputs": []
    },
    {
      "cell_type": "code",
      "source": [
        "!pip install tensorflow_addons"
      ],
      "metadata": {
        "colab": {
          "base_uri": "https://localhost:8080/"
        },
        "id": "eciqIk-b0naa",
        "outputId": "d9c813c8-72ee-4d3f-f8cf-fd5eeba34ec6"
      },
      "execution_count": null,
      "outputs": [
        {
          "output_type": "stream",
          "name": "stdout",
          "text": [
            "Looking in indexes: https://pypi.org/simple, https://us-python.pkg.dev/colab-wheels/public/simple/\n",
            "Collecting tensorflow_addons\n",
            "  Downloading tensorflow_addons-0.18.0-cp37-cp37m-manylinux_2_17_x86_64.manylinux2014_x86_64.whl (1.1 MB)\n",
            "\u001b[K     |████████████████████████████████| 1.1 MB 6.4 MB/s \n",
            "\u001b[?25hRequirement already satisfied: typeguard>=2.7 in /usr/local/lib/python3.7/dist-packages (from tensorflow_addons) (2.7.1)\n",
            "Requirement already satisfied: packaging in /usr/local/lib/python3.7/dist-packages (from tensorflow_addons) (21.3)\n",
            "Requirement already satisfied: pyparsing!=3.0.5,>=2.0.2 in /usr/local/lib/python3.7/dist-packages (from packaging->tensorflow_addons) (3.0.9)\n",
            "Installing collected packages: tensorflow-addons\n",
            "Successfully installed tensorflow-addons-0.18.0\n"
          ]
        }
      ]
    },
    {
      "cell_type": "code",
      "source": [
        "from tensorflow_addons.metrics import F1Score"
      ],
      "metadata": {
        "id": "uSlDU6Xx0mdm"
      },
      "execution_count": null,
      "outputs": []
    },
    {
      "cell_type": "markdown",
      "source": [
        "# Models"
      ],
      "metadata": {
        "id": "01spbdqEH7UK"
      }
    },
    {
      "cell_type": "markdown",
      "source": [
        "## Lexicon Approach\n",
        "\n",
        "For our lexicon approach, we will use\n",
        "\n",
        "Minqing Hu and Bing Liu. \"Mining and Summarizing Customer Reviews.\"\n",
        ";       Proceedings of the ACM SIGKDD International Conference on Knowledge\n",
        ";       Discovery and Data Mining (KDD-2004), Aug 22-25, 2004, Seattle,\n",
        ";       Washington, USA,\n",
        "\n",
        "Original Positive words: 2006\n",
        "Negative words: 4783\n",
        "Useful properties: includes mis-spellings, morphological variants, slang, and social-media mark-up\n",
        "\n",
        "See here for others: http://sentiment.christopherpotts.net/lexicons.html#resources\n",
        "\n",
        "We are using a variant of it, which as P = 2003 and N = 4780, which removes words in the intersection of both."
      ],
      "metadata": {
        "id": "d2Ks9xKLmfEW"
      }
    },
    {
      "cell_type": "code",
      "source": [
        "liu_lex = pd.read_csv(\"/content/drive/MyDrive/liu-sentiment-lexicon/liu-sentiment-lexicon.csv\")"
      ],
      "metadata": {
        "id": "2-GygbVPJj_b"
      },
      "execution_count": null,
      "outputs": []
    },
    {
      "cell_type": "code",
      "source": [
        "# v simple preprocessing/text cleaning -----------------------------------------\n",
        "def clean_review_for_lexicon_approach(r):\n",
        "\n",
        "  # convert to string just in case\n",
        "  r = str(r)\n",
        "\n",
        "  # lower case\n",
        "  r_lower = r.lower()\n",
        "\n",
        "  # remove clausal punctuation\n",
        "  r_clean = re.sub(r\"[.,:;()]\", \"\", r_lower)\n",
        "\n",
        "  return r_clean\n",
        "\n",
        "# simple tokenization splitting on whitespace ----------------------------------\n",
        "def tokenize_review_for_lexicon_approach(r):\n",
        "\n",
        "  # clean the text with the above function\n",
        "  r = clean_review_for_lexicon_approach(r)\n",
        "\n",
        "  # split it on whitespace\n",
        "  r_split = r.split()\n",
        "\n",
        "  # convert to a pandas series\n",
        "  return pd.Series(r_split, name = 'word')\n",
        "\n",
        "\n",
        "# get the sentiment ------------------------------------------------------------\n",
        "def get_lexicon_based_sentiment(r):\n",
        "\n",
        "  # tokenize the review\n",
        "  tokenized_review = tokenize_review_for_lexicon_approach(r)\n",
        "\n",
        "  # do a left join\n",
        "  review_words_with_sentiment = pd.merge(left = tokenized_review, right = liu_lex, how = \"left\")\n",
        "\n",
        "  # remove the NaNs\n",
        "  review_words_with_sentiment = review_words_with_sentiment.dropna()\n",
        "\n",
        "  # get the score (mean of the sentiment scores)\n",
        "  score = np.mean(review_words_with_sentiment['sentiment'])\n",
        "\n",
        "  # get a class\n",
        "\n",
        "  if bool(score):\n",
        "    if score > 0:\n",
        "      return 'pos'\n",
        "    elif score < 0:\n",
        "      return 'neg'\n",
        "    else:\n",
        "      return random.choice(['pos', 'neg'])\n",
        "  else:\n",
        "    return random.choice(['pos', 'neg'])\n"
      ],
      "metadata": {
        "id": "Bi6aPCSqmywu"
      },
      "execution_count": null,
      "outputs": []
    },
    {
      "cell_type": "code",
      "source": [
        "lex_model_train_preds = train_imdb['text'].apply(get_lexicon_based_sentiment)\n",
        "lex_model_train_f1_score = f1_score(train_imdb['label'], lex_model_train_preds, average = 'macro')\n",
        "print(f\"Train F1-score using lexicon approach: {lex_model_train_f1_score:.4f}\")"
      ],
      "metadata": {
        "colab": {
          "base_uri": "https://localhost:8080/"
        },
        "id": "i_edmna_L5I5",
        "outputId": "87a44343-4e5f-4eca-a569-ebd0401f8d15"
      },
      "execution_count": null,
      "outputs": [
        {
          "output_type": "stream",
          "name": "stdout",
          "text": [
            "Train F1-score using lexicon approach: 0.7280\n"
          ]
        }
      ]
    },
    {
      "cell_type": "code",
      "source": [
        "lex_model_dev_preds = dev_imdb['text'].apply(get_lexicon_based_sentiment)\n",
        "lex_model_dev_f1_score = f1_score(dev_imdb['label'], lex_model_dev_preds, average = 'macro')\n",
        "print(f\"Dev F1-score using lexicon approach: {lex_model_dev_f1_score:.4f}\")"
      ],
      "metadata": {
        "colab": {
          "base_uri": "https://localhost:8080/"
        },
        "id": "FFnUDzvuMga4",
        "outputId": "1faa3825-0b96-494f-dec5-806c5c97ca84"
      },
      "execution_count": null,
      "outputs": [
        {
          "output_type": "stream",
          "name": "stdout",
          "text": [
            "Dev F1-score using lexicon approach: 0.7210\n"
          ]
        }
      ]
    },
    {
      "cell_type": "markdown",
      "source": [
        "## Traditional Machine Learning Approach\n",
        "\n",
        "We will investigate (and tune) logistic regression on three (sparse) featurizations of the dataset:\n",
        "\n",
        "i) unigram model\n",
        "\n",
        "ii) unigram + bigram model\n",
        "\n",
        "iii) unigram + bigram + hand-built features"
      ],
      "metadata": {
        "id": "8HUgmfFnmW7f"
      }
    },
    {
      "cell_type": "markdown",
      "source": [
        "### Preprocessing setup"
      ],
      "metadata": {
        "id": "djAcaSiFmcw2"
      }
    },
    {
      "cell_type": "markdown",
      "source": [
        "\n",
        "\n",
        "To preprocess the data, we will:\n",
        "* deal with negation;\n",
        "* tokenize the text according to a sentiment-aware tokenizer;\n",
        "* avoid stemming, case-folding, removal of stopwords."
      ],
      "metadata": {
        "id": "66QOwBf2P_yE"
      }
    },
    {
      "cell_type": "code",
      "source": [
        "from nltk.tokenize import TweetTokenizer, TreebankWordTokenizer"
      ],
      "metadata": {
        "id": "zQRnjkQOR6is"
      },
      "execution_count": null,
      "outputs": []
    },
    {
      "cell_type": "code",
      "source": [
        "potts_tokenizer = TweetTokenizer()\n",
        "tb_tokenizer = TreebankWordTokenizer()"
      ],
      "metadata": {
        "id": "jcJOJRbWSREK"
      },
      "execution_count": null,
      "outputs": []
    },
    {
      "cell_type": "code",
      "source": [
        "potts_tokenizer.tokenize('@mygoodfriend That was good film :)')"
      ],
      "metadata": {
        "colab": {
          "base_uri": "https://localhost:8080/"
        },
        "id": "bjh6L8ZmSTsb",
        "outputId": "10fce839-4694-4f7f-8442-0fd93018c1bf"
      },
      "execution_count": null,
      "outputs": [
        {
          "output_type": "execute_result",
          "data": {
            "text/plain": [
              "['@mygoodfriend', 'That', 'was', 'good', 'film', ':)']"
            ]
          },
          "metadata": {},
          "execution_count": 686
        }
      ]
    },
    {
      "cell_type": "code",
      "source": [
        "tb_tokenizer.tokenize('@mygoodfriend That was good film :)')"
      ],
      "metadata": {
        "colab": {
          "base_uri": "https://localhost:8080/"
        },
        "id": "FQ68OZqwTMeP",
        "outputId": "773dd3f2-d1ef-4fad-96dd-6b3a4be8ba58"
      },
      "execution_count": null,
      "outputs": [
        {
          "output_type": "execute_result",
          "data": {
            "text/plain": [
              "['@', 'mygoodfriend', 'That', 'was', 'good', 'film', ':', ')']"
            ]
          },
          "metadata": {},
          "execution_count": 687
        }
      ]
    },
    {
      "cell_type": "code",
      "source": [
        "negation_list = ['not', 'never', 'no', 'nobody', 'noone', 'nowhere', 'never']"
      ],
      "metadata": {
        "id": "EtPOYcx8T_Le"
      },
      "execution_count": null,
      "outputs": []
    },
    {
      "cell_type": "code",
      "source": [
        "def preprocess_and_tokenize_document(review):\n",
        "\n",
        "  # tokenize it according to the TweetTokenizer\n",
        "  review_tokenized = potts_tokenizer.tokenize(review)\n",
        "  negated_review_tokenized = []\n",
        "\n",
        "\n",
        "  negation_in_memory = 0\n",
        "  for word in review_tokenized:\n",
        "    if re.search('[.,:;]', word):\n",
        "      negation_in_memory = 0\n",
        "      negated_review_tokenized.append(word)\n",
        "    elif \"n't\" in word or word in negation_list:\n",
        "      negation_in_memory = 1\n",
        "      negated_review_tokenized.append(word)\n",
        "    else:\n",
        "      if negation_in_memory == 1:\n",
        "        negated_review_tokenized.append(word + '_NEG')\n",
        "      else:\n",
        "        negated_review_tokenized.append(word)\n",
        "\n",
        "    # if \"n't\" in word or word in negation_list:\n",
        "    #   print(word + \"_NEG\")\n",
        "\n",
        "  return negated_review_tokenized"
      ],
      "metadata": {
        "id": "y2hqWgZ5Tde2"
      },
      "execution_count": null,
      "outputs": []
    },
    {
      "cell_type": "markdown",
      "source": [
        "### Unigram Model"
      ],
      "metadata": {
        "id": "pjz7WAsmmU7s"
      }
    },
    {
      "cell_type": "code",
      "source": [
        "from sklearn.feature_extraction.text import CountVectorizer"
      ],
      "metadata": {
        "id": "Tg-8Yl8AQCs4"
      },
      "execution_count": null,
      "outputs": []
    },
    {
      "cell_type": "code",
      "source": [
        "unigram_vectorizer = CountVectorizer(\n",
        "                                     lowercase = False,\n",
        "                                     preprocessor = None,\n",
        "                                     tokenizer = preprocess_and_tokenize_document,\n",
        "                                     ngram_range = (1,1),\n",
        "                                     min_df = 10,\n",
        "                                     binary = True)"
      ],
      "metadata": {
        "id": "-rFtECfLRTsp"
      },
      "execution_count": null,
      "outputs": []
    },
    {
      "cell_type": "code",
      "source": [
        "from sklearn.linear_model import LogisticRegression"
      ],
      "metadata": {
        "id": "UsCLue8HpAHN"
      },
      "execution_count": null,
      "outputs": []
    },
    {
      "cell_type": "code",
      "source": [
        "unigram_lr = LogisticRegression(max_iter = 10000, penalty = 'l2')"
      ],
      "metadata": {
        "id": "Xx9mY8UrPo9_"
      },
      "execution_count": null,
      "outputs": []
    },
    {
      "cell_type": "code",
      "source": [
        "from sklearn.model_selection import GridSearchCV\n",
        "\n",
        "C_vals =  [100, 50, 10, 1.0, 0.1, 0.01, 0.001]\n",
        "\n",
        "unigram_param_grid = {'C' : C_vals}\n",
        "\n",
        "unigram_gridsearch = GridSearchCV(unigram_lr, unigram_param_grid, scoring = 'f1_macro' , n_jobs = -1)"
      ],
      "metadata": {
        "id": "EWkI0rMIeN0b"
      },
      "execution_count": null,
      "outputs": []
    },
    {
      "cell_type": "code",
      "source": [
        "from sklearn.pipeline import Pipeline\n",
        "unigram_pipeline = Pipeline(steps = [\n",
        "    (\"unigram_preprocessor_and_tokenizer\", unigram_vectorizer),\n",
        "    (\"unigram_logit_gridsearch\", unigram_gridsearch)\n",
        "])"
      ],
      "metadata": {
        "id": "ZjWdduGNPshG"
      },
      "execution_count": null,
      "outputs": []
    },
    {
      "cell_type": "code",
      "source": [
        "unigram_pipeline.fit(train_imdb['text'].values, train_imdb['label'].values)"
      ],
      "metadata": {
        "colab": {
          "base_uri": "https://localhost:8080/"
        },
        "id": "cR2u89mPcHaH",
        "outputId": "219041e2-ad16-4e67-a22a-ced530df72e9"
      },
      "execution_count": null,
      "outputs": [
        {
          "output_type": "execute_result",
          "data": {
            "text/plain": [
              "Pipeline(steps=[('unigram_preprocessor_and_tokenizer',\n",
              "                 CountVectorizer(binary=True, lowercase=False, min_df=10,\n",
              "                                 tokenizer=<function preprocess_and_tokenize_document at 0x7f152abc2320>)),\n",
              "                ('unigram_logit_gridsearch',\n",
              "                 GridSearchCV(estimator=LogisticRegression(max_iter=10000),\n",
              "                              n_jobs=-1,\n",
              "                              param_grid={'C': [100, 50, 10, 1.0, 0.1, 0.01,\n",
              "                                                0.001]},\n",
              "                              scoring='f1_macro'))])"
            ]
          },
          "metadata": {},
          "execution_count": 696
        }
      ]
    },
    {
      "cell_type": "code",
      "source": [
        "unigram_lr_train_preds = unigram_pipeline.predict(train_imdb['text'].values)\n",
        "unigram_lr_train_f1_score = f1_score(train_imdb['label'], unigram_lr_train_preds, average = 'macro')\n",
        "print(f\"Train F1-score using unigrams in logistic regression: {unigram_lr_train_f1_score:.4f}\")"
      ],
      "metadata": {
        "colab": {
          "base_uri": "https://localhost:8080/"
        },
        "id": "tnjGsMp-cedQ",
        "outputId": "5a543bd7-6b51-4242-feef-cf9fed750769"
      },
      "execution_count": null,
      "outputs": [
        {
          "output_type": "stream",
          "name": "stdout",
          "text": [
            "Train F1-score using unigrams in logistic regression: 0.9857\n"
          ]
        }
      ]
    },
    {
      "cell_type": "code",
      "source": [
        "unigram_lr_dev_preds = unigram_pipeline.predict(dev_imdb['text'].values)\n",
        "unigram_lr_dev_f1_score = f1_score(dev_imdb['label'], unigram_lr_dev_preds, average = 'macro')\n",
        "print(f\"Dev F1-score using unigrams in logistic regression: {unigram_lr_dev_f1_score:.4f}\")"
      ],
      "metadata": {
        "colab": {
          "base_uri": "https://localhost:8080/"
        },
        "id": "A_OaxBDFdOyS",
        "outputId": "cd548079-085b-4553-beb6-bc65ea1ceb2f"
      },
      "execution_count": null,
      "outputs": [
        {
          "output_type": "stream",
          "name": "stdout",
          "text": [
            "Dev F1-score using unigrams in logistic regression: 0.8584\n"
          ]
        }
      ]
    },
    {
      "cell_type": "markdown",
      "source": [
        "### Bigram Model"
      ],
      "metadata": {
        "id": "0uGSXUvLjXBx"
      }
    },
    {
      "cell_type": "code",
      "source": [
        "bigram_vectorizer = CountVectorizer(\n",
        "                                     lowercase = False,\n",
        "                                     preprocessor = None,\n",
        "                                     tokenizer = preprocess_and_tokenize_document,\n",
        "                                     ngram_range = (2,2),\n",
        "                                     min_df = 10,\n",
        "                                     binary = True)"
      ],
      "metadata": {
        "id": "ERcdOXpvjXBx"
      },
      "execution_count": null,
      "outputs": []
    },
    {
      "cell_type": "code",
      "source": [
        "from sklearn.linear_model import LogisticRegression"
      ],
      "metadata": {
        "id": "8V_mZlGJjXBx"
      },
      "execution_count": null,
      "outputs": []
    },
    {
      "cell_type": "code",
      "source": [
        "bigram_lr = LogisticRegression(max_iter = 10000, penalty = 'l2')"
      ],
      "metadata": {
        "id": "6fcfRcZ0jXBx"
      },
      "execution_count": null,
      "outputs": []
    },
    {
      "cell_type": "code",
      "source": [
        "from sklearn.model_selection import GridSearchCV\n",
        "\n",
        "C_vals =  [100, 50, 10, 1.0, 0.1, 0.01, 0.001]\n",
        "\n",
        "bigram_param_grid = {'C' : C_vals}\n",
        "\n",
        "bigram_gridsearch = GridSearchCV(bigram_lr, bigram_param_grid, scoring = 'f1_macro' , n_jobs = -1)"
      ],
      "metadata": {
        "id": "zgSish0MjXBx"
      },
      "execution_count": null,
      "outputs": []
    },
    {
      "cell_type": "code",
      "source": [
        "from sklearn.pipeline import Pipeline\n",
        "bigram_pipeline = Pipeline(steps = [\n",
        "    (\"bigram_preprocessor_and_tokenizer\", bigram_vectorizer),\n",
        "    (\"bigram_logit_gridsearch\", bigram_gridsearch)\n",
        "])"
      ],
      "metadata": {
        "id": "iP3fnBSMjXBx"
      },
      "execution_count": null,
      "outputs": []
    },
    {
      "cell_type": "code",
      "source": [
        "bigram_pipeline.fit(train_imdb['text'].values, train_imdb['label'].values)"
      ],
      "metadata": {
        "colab": {
          "base_uri": "https://localhost:8080/"
        },
        "outputId": "0424fb40-dbd6-4839-8945-93a9dc8c86e4",
        "id": "KRgL_mzQjXBy"
      },
      "execution_count": null,
      "outputs": [
        {
          "output_type": "execute_result",
          "data": {
            "text/plain": [
              "Pipeline(steps=[('bigram_preprocessor_and_tokenizer',\n",
              "                 CountVectorizer(binary=True, lowercase=False, min_df=10,\n",
              "                                 ngram_range=(2, 2),\n",
              "                                 tokenizer=<function preprocess_and_tokenize_document at 0x7f152abc2320>)),\n",
              "                ('bigram_logit_gridsearch',\n",
              "                 GridSearchCV(estimator=LogisticRegression(max_iter=10000),\n",
              "                              n_jobs=-1,\n",
              "                              param_grid={'C': [100, 50, 10, 1.0, 0.1, 0.01,\n",
              "                                                0.001]},\n",
              "                              scoring='f1_macro'))])"
            ]
          },
          "metadata": {},
          "execution_count": 704
        }
      ]
    },
    {
      "cell_type": "code",
      "source": [
        "bigram_pipeline"
      ],
      "metadata": {
        "colab": {
          "base_uri": "https://localhost:8080/"
        },
        "outputId": "f9ac12a3-2912-4c8b-abfd-5cc2271dad06",
        "id": "CXx5rTwZjXBy"
      },
      "execution_count": null,
      "outputs": [
        {
          "output_type": "execute_result",
          "data": {
            "text/plain": [
              "Pipeline(steps=[('bigram_preprocessor_and_tokenizer',\n",
              "                 CountVectorizer(binary=True, lowercase=False, min_df=10,\n",
              "                                 ngram_range=(2, 2),\n",
              "                                 tokenizer=<function preprocess_and_tokenize_document at 0x7f152abc2320>)),\n",
              "                ('bigram_logit_gridsearch',\n",
              "                 GridSearchCV(estimator=LogisticRegression(max_iter=10000),\n",
              "                              n_jobs=-1,\n",
              "                              param_grid={'C': [100, 50, 10, 1.0, 0.1, 0.01,\n",
              "                                                0.001]},\n",
              "                              scoring='f1_macro'))])"
            ]
          },
          "metadata": {},
          "execution_count": 705
        }
      ]
    },
    {
      "cell_type": "code",
      "source": [
        "bigram_lr_train_preds = bigram_pipeline.predict(train_imdb['text'].values)\n",
        "bigram_lr_train_f1_score = f1_score(train_imdb['label'], bigram_lr_train_preds, average = 'macro')\n",
        "print(f\"Train F1-score using unigrams+bigrams in logistic regression: {bigram_lr_train_f1_score:.4f}\")"
      ],
      "metadata": {
        "colab": {
          "base_uri": "https://localhost:8080/"
        },
        "outputId": "9099d112-d4b1-468d-db88-811bc909419f",
        "id": "t5xYYMP7jXBy"
      },
      "execution_count": null,
      "outputs": [
        {
          "output_type": "stream",
          "name": "stdout",
          "text": [
            "Train F1-score using unigrams+bigrams in logistic regression: 0.9947\n"
          ]
        }
      ]
    },
    {
      "cell_type": "code",
      "source": [
        "bigram_lr_dev_preds = bigram_pipeline.predict(dev_imdb['text'].values)\n",
        "bigram_lr_dev_f1_score = f1_score(dev_imdb['label'], bigram_lr_dev_preds, average = 'macro')\n",
        "print(f\"Dev F1-score using unigrams+bigrams in logistic regression: {bigram_lr_dev_f1_score:.4f}\")"
      ],
      "metadata": {
        "colab": {
          "base_uri": "https://localhost:8080/"
        },
        "outputId": "3157a783-b8ce-4219-c648-07d620758b7d",
        "id": "5cGBMGYUjXBy"
      },
      "execution_count": null,
      "outputs": [
        {
          "output_type": "stream",
          "name": "stdout",
          "text": [
            "Dev F1-score using unigrams+bigrams in logistic regression: 0.8295\n"
          ]
        }
      ]
    },
    {
      "cell_type": "code",
      "source": [],
      "metadata": {
        "id": "mIL5jKK6jXBy"
      },
      "execution_count": null,
      "outputs": []
    },
    {
      "cell_type": "markdown",
      "source": [
        "### Unigram + Bigram Model"
      ],
      "metadata": {
        "id": "VdrWtI4yhj-4"
      }
    },
    {
      "cell_type": "code",
      "source": [
        "unibigram_vectorizer = CountVectorizer(\n",
        "                                     lowercase = True,\n",
        "                                     preprocessor = None,\n",
        "                                     tokenizer = preprocess_and_tokenize_document,\n",
        "                                     ngram_range = (1,2),\n",
        "                                     min_df = 10,\n",
        "                                     binary = True)"
      ],
      "metadata": {
        "id": "JfSWvPK0hkRH"
      },
      "execution_count": null,
      "outputs": []
    },
    {
      "cell_type": "code",
      "source": [
        "from sklearn.linear_model import LogisticRegression"
      ],
      "metadata": {
        "id": "8kpu0jAKhkRH"
      },
      "execution_count": null,
      "outputs": []
    },
    {
      "cell_type": "code",
      "source": [
        "unibigram_lr = LogisticRegression(max_iter = 10000, penalty = 'l2')"
      ],
      "metadata": {
        "id": "NA-IJAeLhkRH"
      },
      "execution_count": null,
      "outputs": []
    },
    {
      "cell_type": "code",
      "source": [
        "from sklearn.model_selection import GridSearchCV\n",
        "\n",
        "C_vals =  [100, 50, 10, 1.0, 0.1, 0.01, 0.001]\n",
        "\n",
        "unibigram_param_grid = {'C' : C_vals}\n",
        "\n",
        "unibigram_gridsearch = GridSearchCV(unibigram_lr, unibigram_param_grid, scoring = 'f1_macro' , n_jobs = -1)"
      ],
      "metadata": {
        "id": "ptOiBLZUhkRH"
      },
      "execution_count": null,
      "outputs": []
    },
    {
      "cell_type": "code",
      "source": [
        "from sklearn.pipeline import Pipeline\n",
        "unibigram_pipeline = Pipeline(steps = [\n",
        "    (\"unibigram_preprocessor_and_tokenizer\", unibigram_vectorizer),\n",
        "    (\"unibigram_logit_gridsearch\", unibigram_gridsearch)\n",
        "])"
      ],
      "metadata": {
        "id": "CxFWuWJYhkRI"
      },
      "execution_count": null,
      "outputs": []
    },
    {
      "cell_type": "code",
      "source": [
        "unibigram_pipeline.fit(train_imdb['text'].values, train_imdb['label'].values)"
      ],
      "metadata": {
        "colab": {
          "base_uri": "https://localhost:8080/"
        },
        "outputId": "2f71a97b-354b-42ee-c403-617bc14a81b3",
        "id": "Ok9Tmd4mhkRI"
      },
      "execution_count": null,
      "outputs": [
        {
          "output_type": "execute_result",
          "data": {
            "text/plain": [
              "Pipeline(steps=[('unibigram_preprocessor_and_tokenizer',\n",
              "                 CountVectorizer(binary=True, min_df=10, ngram_range=(1, 2),\n",
              "                                 tokenizer=<function preprocess_and_tokenize_document at 0x7f152abc2320>)),\n",
              "                ('unibigram_logit_gridsearch',\n",
              "                 GridSearchCV(estimator=LogisticRegression(max_iter=10000),\n",
              "                              n_jobs=-1,\n",
              "                              param_grid={'C': [100, 50, 10, 1.0, 0.1, 0.01,\n",
              "                                                0.001]},\n",
              "                              scoring='f1_macro'))])"
            ]
          },
          "metadata": {},
          "execution_count": 713
        }
      ]
    },
    {
      "cell_type": "code",
      "source": [
        "unibigram_pipeline[0]"
      ],
      "metadata": {
        "colab": {
          "base_uri": "https://localhost:8080/"
        },
        "id": "TX4CTeaRiyUt",
        "outputId": "02f1da69-d70e-4c2e-b4eb-3c1f0ca241b0"
      },
      "execution_count": null,
      "outputs": [
        {
          "output_type": "execute_result",
          "data": {
            "text/plain": [
              "CountVectorizer(binary=True, min_df=10, ngram_range=(1, 2),\n",
              "                tokenizer=<function preprocess_and_tokenize_document at 0x7f152abc2320>)"
            ]
          },
          "metadata": {},
          "execution_count": 714
        }
      ]
    },
    {
      "cell_type": "code",
      "source": [
        "len(unibigram_pipeline.steps[0][1].get_feature_names_out())"
      ],
      "metadata": {
        "colab": {
          "base_uri": "https://localhost:8080/"
        },
        "id": "BM75V7UNlTqV",
        "outputId": "aef4c55a-15a9-4286-ad43-ebc087ba8e79"
      },
      "execution_count": null,
      "outputs": [
        {
          "output_type": "execute_result",
          "data": {
            "text/plain": [
              "26505"
            ]
          },
          "metadata": {},
          "execution_count": 715
        }
      ]
    },
    {
      "cell_type": "code",
      "source": [
        "unibigram_pipeline.steps[1][1].best_estimator_"
      ],
      "metadata": {
        "colab": {
          "base_uri": "https://localhost:8080/"
        },
        "id": "YO3r3G-Gk4kp",
        "outputId": "75989eff-8fbf-4784-9b49-37e79b904c7f"
      },
      "execution_count": null,
      "outputs": [
        {
          "output_type": "execute_result",
          "data": {
            "text/plain": [
              "LogisticRegression(C=0.1, max_iter=10000)"
            ]
          },
          "metadata": {},
          "execution_count": 716
        }
      ]
    },
    {
      "cell_type": "code",
      "source": [
        "unibigram_lr_train_preds = unibigram_pipeline.predict(train_imdb['text'].values)\n",
        "unibigram_lr_train_f1_score = f1_score(train_imdb['label'], unibigram_lr_train_preds, average = 'macro')\n",
        "print(f\"Train F1-score using unigrams+bigrams in logistic regression: {unibigram_lr_train_f1_score:.4f}\")"
      ],
      "metadata": {
        "colab": {
          "base_uri": "https://localhost:8080/"
        },
        "outputId": "50cde947-ab5b-4cd6-c52e-77b13f6fdc9a",
        "id": "gs49a9mYhkRI"
      },
      "execution_count": null,
      "outputs": [
        {
          "output_type": "stream",
          "name": "stdout",
          "text": [
            "Train F1-score using unigrams+bigrams in logistic regression: 0.9983\n"
          ]
        }
      ]
    },
    {
      "cell_type": "code",
      "source": [
        "unibigram_lr_dev_preds = unibigram_pipeline.predict(dev_imdb['text'].values)\n",
        "unibigram_lr_dev_f1_score = f1_score(dev_imdb['label'], unibigram_lr_dev_preds, average = 'macro')\n",
        "print(f\"Dev F1-score using unigrams+bigrams in logistic regression: {unibigram_lr_dev_f1_score:.4f}\")"
      ],
      "metadata": {
        "colab": {
          "base_uri": "https://localhost:8080/"
        },
        "outputId": "f698a82e-7f7f-40de-fc04-9db4fb4b108a",
        "id": "6ts28OSihkRI"
      },
      "execution_count": null,
      "outputs": [
        {
          "output_type": "stream",
          "name": "stdout",
          "text": [
            "Dev F1-score using unigrams+bigrams in logistic regression: 0.8699\n"
          ]
        }
      ]
    },
    {
      "cell_type": "markdown",
      "source": [
        "### Hand-build Feature Model\n",
        "\n",
        "We will investigate 5 features:\n",
        "\n",
        "- length of the review\n",
        "- number of words in Liu's positive lexicon, negative lexicon, and their ratio\n",
        "- number of exclamation marks\n",
        "- number of words with lengthening\n",
        "- number of all caps"
      ],
      "metadata": {
        "id": "-PSLj6Xui0IG"
      }
    },
    {
      "cell_type": "code",
      "source": [
        "def phi_review_length(review):\n",
        "\n",
        "  # tokenize it according to the TweetTokenizer\n",
        "  review_tokenized = potts_tokenizer.tokenize(review)\n",
        "\n",
        "  # get number of words\n",
        "  return len(review_tokenized)\n"
      ],
      "metadata": {
        "id": "vuaJm0ftmbLa"
      },
      "execution_count": null,
      "outputs": []
    },
    {
      "cell_type": "code",
      "source": [
        "def phi_liu_metrics(review):\n",
        "\n",
        "  # tokenize it according to the TweetTokenizer\n",
        "  review_tokenized = [w.lower() for w in potts_tokenizer.tokenize(review)]\n",
        "\n",
        "  # convert into a series\n",
        "  review_tokenized = pd.Series(review_tokenized, name = \"word\")\n",
        "\n",
        "  # merge with the liu dataset\n",
        "  review_words_with_sentiment = pd.merge(left = review_tokenized, right = liu_lex, how = \"left\")\n",
        "  review_words_with_sentiment = review_words_with_sentiment.dropna()\n",
        "\n",
        "  # class counts\n",
        "  sentiment_class_counts = review_words_with_sentiment['sentiment'].value_counts()\n",
        "\n",
        "  # number of positives\n",
        "  try:\n",
        "    num_pos = sentiment_class_counts[1] + 1\n",
        "  except:\n",
        "    num_pos = 1\n",
        "\n",
        "  # number of negatives\n",
        "  try:\n",
        "    num_neg = sentiment_class_counts[-1] + 1\n",
        "  except:\n",
        "    num_neg = 1\n",
        "\n",
        "  # vocabulary size\n",
        "  vocab_size = len(set(review_tokenized))\n",
        "\n",
        "  # augmented review length\n",
        "  review_len = len(review_tokenized) + vocab_size\n",
        "\n",
        "  # positive rate\n",
        "  pos_rate = num_pos / review_len\n",
        "\n",
        "  # negative rate\n",
        "  neg_rate = num_neg / review_len\n",
        "\n",
        "  # their ratio\n",
        "  pos_neg_ratio = pos_rate / neg_rate\n",
        "\n",
        "\n",
        "  return num_pos, pos_rate, num_neg, neg_rate, pos_neg_ratio"
      ],
      "metadata": {
        "id": "4mqJKqswmvql"
      },
      "execution_count": null,
      "outputs": []
    },
    {
      "cell_type": "code",
      "source": [
        "def phi_number_of_exclams(review):\n",
        "  return len(re.findall('!', review))"
      ],
      "metadata": {
        "id": "vzU6fT2ko5Zw"
      },
      "execution_count": null,
      "outputs": []
    },
    {
      "cell_type": "code",
      "source": [
        "def phi_number_of_letter_lenthenings(review):\n",
        "\n",
        "  review_lower = review.lower()\n",
        "\n",
        "  letter_lengthenings = []\n",
        "\n",
        "  for letter in string.ascii_lowercase:\n",
        "    letter_lengthenings.extend(re.findall(f\"{letter}{{4,}}\", review_lower))\n",
        "\n",
        "  return len(letter_lengthenings)"
      ],
      "metadata": {
        "id": "zMrxkKPmpjm1"
      },
      "execution_count": null,
      "outputs": []
    },
    {
      "cell_type": "code",
      "source": [
        "def phi_vector(review):\n",
        "\n",
        "  # review length\n",
        "  rev_len = phi_review_length(review)\n",
        "\n",
        "  # liu metrics\n",
        "  num_pos, pos_rate, num_neg, neg_rate, pos_neg_ratio = phi_liu_metrics(review)\n",
        "\n",
        "  # exclamations\n",
        "  num_exclams = phi_number_of_exclams(review)\n",
        "\n",
        "  return rev_len, num_pos, pos_rate, num_neg, neg_rate, pos_neg_ratio, num_exclams\n",
        "\n"
      ],
      "metadata": {
        "id": "J_M8GnKtqgdC"
      },
      "execution_count": null,
      "outputs": []
    },
    {
      "cell_type": "code",
      "source": [
        "def phi_matrix(reviews):\n",
        "\n",
        "  feature_matrix = np.zeros(shape = (len(reviews), len(phi_vector(reviews[0]))))\n",
        "\n",
        "  for i, review in enumerate(reviews):\n",
        "    feature_matrix[i,:] = phi_vector(review)\n",
        "\n",
        "  return feature_matrix"
      ],
      "metadata": {
        "id": "iFAcweM7syu1"
      },
      "execution_count": null,
      "outputs": []
    },
    {
      "cell_type": "code",
      "source": [
        "from sklearn.base import BaseEstimator, TransformerMixin\n",
        "from sklearn.utils.validation import check_is_fitted\n",
        "\n",
        "\n",
        "class PhiFeaturizer(BaseEstimator, TransformerMixin):\n",
        "    # initializer\n",
        "    def __init__(self):\n",
        "        # save the features list internally in the class\n",
        "        self.phi_feature_names = [\"PHI_\" + f for f in [\"rev_len\", \"num_pos\", \\\n",
        "                                                       \"pos_rate\", \"num_neg\", \"neg_rate\", \\\n",
        "                                                       \"pos_neg_ratio\", \"num_exclams\"]]\n",
        "\n",
        "    def fit(self, X, y = None):\n",
        "        return self\n",
        "\n",
        "    def transform(self, X, y = None):\n",
        "        # return the dataframe with the specified features\n",
        "        return phi_matrix(X)"
      ],
      "metadata": {
        "id": "4yBmKQLvwSPe"
      },
      "execution_count": null,
      "outputs": []
    },
    {
      "cell_type": "code",
      "source": [
        "from sklearn.linear_model import LogisticRegression\n",
        "from sklearn.preprocessing import MinMaxScaler"
      ],
      "metadata": {
        "id": "ho8XUvc3wWd0"
      },
      "execution_count": null,
      "outputs": []
    },
    {
      "cell_type": "code",
      "source": [
        "handcrafted_lr = LogisticRegression(max_iter = 10000, penalty = 'l2')"
      ],
      "metadata": {
        "id": "McwwHDWiwWd0"
      },
      "execution_count": null,
      "outputs": []
    },
    {
      "cell_type": "code",
      "source": [
        "from sklearn.model_selection import GridSearchCV\n",
        "\n",
        "C_vals =  [100, 50, 10, 1.0, 0.1, 0.01, 0.001]\n",
        "\n",
        "handcrafted_param_grid = {'C' : C_vals}\n",
        "\n",
        "handcrafted_gridsearch = GridSearchCV(handcrafted_lr, handcrafted_param_grid, scoring = 'f1_macro' , n_jobs = -1)"
      ],
      "metadata": {
        "id": "RictHEpqwWd0"
      },
      "execution_count": null,
      "outputs": []
    },
    {
      "cell_type": "code",
      "source": [
        "from sklearn.pipeline import Pipeline\n",
        "handcrafted_pipeline = Pipeline(steps = [\n",
        "    (\"handcrafted_featurizer\", PhiFeaturizer()),\n",
        "    (\"handcrafted_scaler\", MinMaxScaler()),\n",
        "    (\"handcrafted_logit_gridsearch\", handcrafted_gridsearch)\n",
        "])"
      ],
      "metadata": {
        "id": "EkSLqltYwWd0"
      },
      "execution_count": null,
      "outputs": []
    },
    {
      "cell_type": "code",
      "source": [
        "handcrafted_pipeline.fit(train_imdb['text'].values, train_imdb['label'].values)"
      ],
      "metadata": {
        "colab": {
          "base_uri": "https://localhost:8080/"
        },
        "outputId": "bc39a592-fea1-480d-d1a0-73988f23651f",
        "id": "rM6t9WMowWd0"
      },
      "execution_count": null,
      "outputs": [
        {
          "output_type": "execute_result",
          "data": {
            "text/plain": [
              "Pipeline(steps=[('handcrafted_featurizer', PhiFeaturizer()),\n",
              "                ('handcrafted_scaler', MinMaxScaler()),\n",
              "                ('handcrafted_logit_gridsearch',\n",
              "                 GridSearchCV(estimator=LogisticRegression(max_iter=10000),\n",
              "                              n_jobs=-1,\n",
              "                              param_grid={'C': [100, 50, 10, 1.0, 0.1, 0.01,\n",
              "                                                0.001]},\n",
              "                              scoring='f1_macro'))])"
            ]
          },
          "metadata": {},
          "execution_count": 730
        }
      ]
    },
    {
      "cell_type": "code",
      "source": [
        "handcrafted_lr_train_preds = handcrafted_pipeline.predict(train_imdb['text'].values)\n",
        "handcrafted_lr_train_f1_score = f1_score(train_imdb['label'], handcrafted_lr_train_preds, average = 'macro')\n",
        "print(f\"Train F1-score using headcrafted features in logistic regression: {handcrafted_lr_train_f1_score:.4f}\")"
      ],
      "metadata": {
        "colab": {
          "base_uri": "https://localhost:8080/"
        },
        "outputId": "fb9e0ece-5661-4778-a318-d1012c90860c",
        "id": "f0FGaeIywWd1"
      },
      "execution_count": null,
      "outputs": [
        {
          "output_type": "stream",
          "name": "stdout",
          "text": [
            "Train F1-score using headcrafted features in logistic regression: 0.7333\n"
          ]
        }
      ]
    },
    {
      "cell_type": "code",
      "source": [
        "handcrafted_lr_dev_preds = handcrafted_pipeline.predict(dev_imdb['text'].values[:50])\n",
        "handcrafted_lr_dev_f1_score = f1_score(dev_imdb['label'][:50], handcrafted_lr_dev_preds, average = 'macro')\n",
        "print(f\"Dev F1-score using headcrafted features in logistic regression: {handcrafted_lr_dev_f1_score:.4f}\")"
      ],
      "metadata": {
        "colab": {
          "base_uri": "https://localhost:8080/"
        },
        "outputId": "0a1b1eec-ec8e-4253-a3d1-2eef49821d1b",
        "id": "DoelB_4twWd1"
      },
      "execution_count": null,
      "outputs": [
        {
          "output_type": "stream",
          "name": "stdout",
          "text": [
            "Dev F1-score using headcrafted features in logistic regression: 0.7182\n"
          ]
        }
      ]
    },
    {
      "cell_type": "markdown",
      "source": [
        "### Unigram + Bigram + Handbuilt"
      ],
      "metadata": {
        "id": "YgPwVojE45Ud"
      }
    },
    {
      "cell_type": "code",
      "source": [
        "from sklearn.pipeline import FeatureUnion"
      ],
      "metadata": {
        "id": "Sr5JKjdGB92S"
      },
      "execution_count": null,
      "outputs": []
    },
    {
      "cell_type": "code",
      "source": [
        "all_features_preproc =  FeatureUnion([\n",
        "                                     (\"vectorizer\", CountVectorizer(\n",
        "                                                                  lowercase = True,\n",
        "                                                                  preprocessor = None,\n",
        "                                                                  tokenizer = preprocess_and_tokenize_document,\n",
        "                                                                  ngram_range = (1,2),\n",
        "                                                                  min_df = 10,\n",
        "                                                                  binary = True)),\n",
        "                                      (\"handcrafted\", PhiFeaturizer())\n",
        "])"
      ],
      "metadata": {
        "id": "9saNrsICB09Z"
      },
      "execution_count": null,
      "outputs": []
    },
    {
      "cell_type": "code",
      "source": [
        "from sklearn.linear_model import LogisticRegression"
      ],
      "metadata": {
        "id": "V4pEu0vrB09Z"
      },
      "execution_count": null,
      "outputs": []
    },
    {
      "cell_type": "code",
      "source": [
        "all_features_lr = LogisticRegression(max_iter = 10000, penalty = 'l2')"
      ],
      "metadata": {
        "id": "BHBx58OyB09Z"
      },
      "execution_count": null,
      "outputs": []
    },
    {
      "cell_type": "code",
      "source": [
        "from sklearn.model_selection import GridSearchCV\n",
        "\n",
        "C_vals =  [100, 50, 10, 1.0, 0.1, 0.01, 0.001]\n",
        "\n",
        "all_features_param_grid = {'C' : C_vals}\n",
        "\n",
        "all_features_gridsearch = GridSearchCV(all_features_lr, all_features_param_grid, scoring = 'f1_macro' , n_jobs = -1)"
      ],
      "metadata": {
        "id": "JXGqCWuZB09Z"
      },
      "execution_count": null,
      "outputs": []
    },
    {
      "cell_type": "code",
      "source": [
        "from sklearn.preprocessing import MaxAbsScaler"
      ],
      "metadata": {
        "id": "p4MzjXCaE-HG"
      },
      "execution_count": null,
      "outputs": []
    },
    {
      "cell_type": "code",
      "source": [
        "from sklearn.pipeline import Pipeline\n",
        "all_features_pipeline = Pipeline(steps = [\n",
        "    (\"all_features_preprocessor_and_tokenizer\", all_features_preproc),\n",
        "    (\"scaler\", MaxAbsScaler()),\n",
        "    (\"all_features_logit_gridsearch\", all_features_gridsearch)\n",
        "])"
      ],
      "metadata": {
        "id": "Sv466JnwB09Z"
      },
      "execution_count": null,
      "outputs": []
    },
    {
      "cell_type": "code",
      "source": [
        "all_features_pipeline.fit(train_imdb['text'].values, train_imdb['label'].values)"
      ],
      "metadata": {
        "colab": {
          "base_uri": "https://localhost:8080/"
        },
        "outputId": "b4247afd-2b40-4df0-ef57-54b53269d359",
        "id": "Lz-nOtyBB09Z"
      },
      "execution_count": null,
      "outputs": [
        {
          "output_type": "execute_result",
          "data": {
            "text/plain": [
              "Pipeline(steps=[('all_features_preprocessor_and_tokenizer',\n",
              "                 FeatureUnion(transformer_list=[('vectorizer',\n",
              "                                                 CountVectorizer(binary=True,\n",
              "                                                                 min_df=10,\n",
              "                                                                 ngram_range=(1,\n",
              "                                                                              2),\n",
              "                                                                 tokenizer=<function preprocess_and_tokenize_document at 0x7f152abc2320>)),\n",
              "                                                ('handcrafted',\n",
              "                                                 PhiFeaturizer())])),\n",
              "                ('scaler', MaxAbsScaler()),\n",
              "                ('all_features_logit_gridsearch',\n",
              "                 GridSearchCV(estimator=LogisticRegression(max_iter=10000),\n",
              "                              n_jobs=-1,\n",
              "                              param_grid={'C': [100, 50, 10, 1.0, 0.1, 0.01,\n",
              "                                                0.001]},\n",
              "                              scoring='f1_macro'))])"
            ]
          },
          "metadata": {},
          "execution_count": 740
        }
      ]
    },
    {
      "cell_type": "code",
      "source": [
        "all_features_lr_train_preds = all_features_pipeline.predict(train_imdb['text'].values)\n",
        "all_features_lr_train_f1_score = f1_score(train_imdb['label'], all_features_lr_train_preds, average = 'macro')\n",
        "print(f\"Train F1-score using unigrams+bigrams+handcrafted in logistic regression: {all_features_lr_train_f1_score:.4f}\")"
      ],
      "metadata": {
        "colab": {
          "base_uri": "https://localhost:8080/"
        },
        "outputId": "32c8edeb-e4ef-4c89-f9ac-2752f8bda89f",
        "id": "FB1sESRrB09a"
      },
      "execution_count": null,
      "outputs": [
        {
          "output_type": "stream",
          "name": "stdout",
          "text": [
            "Train F1-score using unigrams+bigrams+handcrafted in logistic regression: 0.9982\n"
          ]
        }
      ]
    },
    {
      "cell_type": "code",
      "source": [
        "all_features_lr_dev_preds = all_features_pipeline.predict(dev_imdb['text'].values)\n",
        "all_features_lr_dev_f1_score = f1_score(dev_imdb['label'], all_features_lr_dev_preds, average = 'macro')\n",
        "print(f\"Dev F1-score using unigrams+bigrams+handcrafted in logistic regression: {all_features_lr_dev_f1_score:.4f}\")"
      ],
      "metadata": {
        "colab": {
          "base_uri": "https://localhost:8080/"
        },
        "outputId": "2714ddc9-81bd-439d-c28b-bdf4491db7ef",
        "id": "o7y8WDYZB09a"
      },
      "execution_count": null,
      "outputs": [
        {
          "output_type": "stream",
          "name": "stdout",
          "text": [
            "Dev F1-score using unigrams+bigrams+handcrafted in logistic regression: 0.8714\n"
          ]
        }
      ]
    },
    {
      "cell_type": "markdown",
      "source": [
        "### Results on the dev set"
      ],
      "metadata": {
        "id": "D8o1WEH_GEBX"
      }
    },
    {
      "cell_type": "code",
      "source": [
        "model_names = ['unigram', 'bigram', 'unigram+bigram', 'hand-built', 'all']\n",
        "data = ['train', 'dev']\n",
        "results = [ [ unigram_lr_train_f1_score, unigram_lr_dev_f1_score],\n",
        "            [ bigram_lr_train_f1_score, bigram_lr_dev_f1_score],\n",
        "            [ unibigram_lr_train_f1_score, unibigram_lr_dev_f1_score],\n",
        "            [ handcrafted_lr_train_f1_score, handcrafted_lr_dev_f1_score],\n",
        "            [ all_features_lr_train_f1_score , all_features_lr_dev_f1_score],\n",
        "          ]\n",
        "pd.DataFrame(results, index = model_names, columns = data)"
      ],
      "metadata": {
        "colab": {
          "base_uri": "https://localhost:8080/",
          "height": 206
        },
        "id": "4w_KK695GHhU",
        "outputId": "1d889c2b-e747-47c0-a34f-cfb7a0391313"
      },
      "execution_count": null,
      "outputs": [
        {
          "output_type": "execute_result",
          "data": {
            "text/plain": [
              "                   train       dev\n",
              "unigram         0.985666  0.858422\n",
              "bigram          0.994666  0.829469\n",
              "unigram+bigram  0.998333  0.869948\n",
              "hand-built      0.733321  0.718196\n",
              "all             0.998167  0.871441"
            ],
            "text/html": [
              "\n",
              "  <div id=\"df-ad524771-2da9-4329-9a0e-42654ba5839b\">\n",
              "    <div class=\"colab-df-container\">\n",
              "      <div>\n",
              "<style scoped>\n",
              "    .dataframe tbody tr th:only-of-type {\n",
              "        vertical-align: middle;\n",
              "    }\n",
              "\n",
              "    .dataframe tbody tr th {\n",
              "        vertical-align: top;\n",
              "    }\n",
              "\n",
              "    .dataframe thead th {\n",
              "        text-align: right;\n",
              "    }\n",
              "</style>\n",
              "<table border=\"1\" class=\"dataframe\">\n",
              "  <thead>\n",
              "    <tr style=\"text-align: right;\">\n",
              "      <th></th>\n",
              "      <th>train</th>\n",
              "      <th>dev</th>\n",
              "    </tr>\n",
              "  </thead>\n",
              "  <tbody>\n",
              "    <tr>\n",
              "      <th>unigram</th>\n",
              "      <td>0.985666</td>\n",
              "      <td>0.858422</td>\n",
              "    </tr>\n",
              "    <tr>\n",
              "      <th>bigram</th>\n",
              "      <td>0.994666</td>\n",
              "      <td>0.829469</td>\n",
              "    </tr>\n",
              "    <tr>\n",
              "      <th>unigram+bigram</th>\n",
              "      <td>0.998333</td>\n",
              "      <td>0.869948</td>\n",
              "    </tr>\n",
              "    <tr>\n",
              "      <th>hand-built</th>\n",
              "      <td>0.733321</td>\n",
              "      <td>0.718196</td>\n",
              "    </tr>\n",
              "    <tr>\n",
              "      <th>all</th>\n",
              "      <td>0.998167</td>\n",
              "      <td>0.871441</td>\n",
              "    </tr>\n",
              "  </tbody>\n",
              "</table>\n",
              "</div>\n",
              "      <button class=\"colab-df-convert\" onclick=\"convertToInteractive('df-ad524771-2da9-4329-9a0e-42654ba5839b')\"\n",
              "              title=\"Convert this dataframe to an interactive table.\"\n",
              "              style=\"display:none;\">\n",
              "        \n",
              "  <svg xmlns=\"http://www.w3.org/2000/svg\" height=\"24px\"viewBox=\"0 0 24 24\"\n",
              "       width=\"24px\">\n",
              "    <path d=\"M0 0h24v24H0V0z\" fill=\"none\"/>\n",
              "    <path d=\"M18.56 5.44l.94 2.06.94-2.06 2.06-.94-2.06-.94-.94-2.06-.94 2.06-2.06.94zm-11 1L8.5 8.5l.94-2.06 2.06-.94-2.06-.94L8.5 2.5l-.94 2.06-2.06.94zm10 10l.94 2.06.94-2.06 2.06-.94-2.06-.94-.94-2.06-.94 2.06-2.06.94z\"/><path d=\"M17.41 7.96l-1.37-1.37c-.4-.4-.92-.59-1.43-.59-.52 0-1.04.2-1.43.59L10.3 9.45l-7.72 7.72c-.78.78-.78 2.05 0 2.83L4 21.41c.39.39.9.59 1.41.59.51 0 1.02-.2 1.41-.59l7.78-7.78 2.81-2.81c.8-.78.8-2.07 0-2.86zM5.41 20L4 18.59l7.72-7.72 1.47 1.35L5.41 20z\"/>\n",
              "  </svg>\n",
              "      </button>\n",
              "      \n",
              "  <style>\n",
              "    .colab-df-container {\n",
              "      display:flex;\n",
              "      flex-wrap:wrap;\n",
              "      gap: 12px;\n",
              "    }\n",
              "\n",
              "    .colab-df-convert {\n",
              "      background-color: #E8F0FE;\n",
              "      border: none;\n",
              "      border-radius: 50%;\n",
              "      cursor: pointer;\n",
              "      display: none;\n",
              "      fill: #1967D2;\n",
              "      height: 32px;\n",
              "      padding: 0 0 0 0;\n",
              "      width: 32px;\n",
              "    }\n",
              "\n",
              "    .colab-df-convert:hover {\n",
              "      background-color: #E2EBFA;\n",
              "      box-shadow: 0px 1px 2px rgba(60, 64, 67, 0.3), 0px 1px 3px 1px rgba(60, 64, 67, 0.15);\n",
              "      fill: #174EA6;\n",
              "    }\n",
              "\n",
              "    [theme=dark] .colab-df-convert {\n",
              "      background-color: #3B4455;\n",
              "      fill: #D2E3FC;\n",
              "    }\n",
              "\n",
              "    [theme=dark] .colab-df-convert:hover {\n",
              "      background-color: #434B5C;\n",
              "      box-shadow: 0px 1px 3px 1px rgba(0, 0, 0, 0.15);\n",
              "      filter: drop-shadow(0px 1px 2px rgba(0, 0, 0, 0.3));\n",
              "      fill: #FFFFFF;\n",
              "    }\n",
              "  </style>\n",
              "\n",
              "      <script>\n",
              "        const buttonEl =\n",
              "          document.querySelector('#df-ad524771-2da9-4329-9a0e-42654ba5839b button.colab-df-convert');\n",
              "        buttonEl.style.display =\n",
              "          google.colab.kernel.accessAllowed ? 'block' : 'none';\n",
              "\n",
              "        async function convertToInteractive(key) {\n",
              "          const element = document.querySelector('#df-ad524771-2da9-4329-9a0e-42654ba5839b');\n",
              "          const dataTable =\n",
              "            await google.colab.kernel.invokeFunction('convertToInteractive',\n",
              "                                                     [key], {});\n",
              "          if (!dataTable) return;\n",
              "\n",
              "          const docLinkHtml = 'Like what you see? Visit the ' +\n",
              "            '<a target=\"_blank\" href=https://colab.research.google.com/notebooks/data_table.ipynb>data table notebook</a>'\n",
              "            + ' to learn more about interactive tables.';\n",
              "          element.innerHTML = '';\n",
              "          dataTable['output_type'] = 'display_data';\n",
              "          await google.colab.output.renderOutput(dataTable, element);\n",
              "          const docLink = document.createElement('div');\n",
              "          docLink.innerHTML = docLinkHtml;\n",
              "          element.appendChild(docLink);\n",
              "        }\n",
              "      </script>\n",
              "    </div>\n",
              "  </div>\n",
              "  "
            ]
          },
          "metadata": {},
          "execution_count": 743
        }
      ]
    },
    {
      "cell_type": "markdown",
      "source": [
        "### Model comparison of `unigram_lr_dev_f1_score` and `all_features_lr_dev_f1_score`\n",
        "\n",
        "Options for comparing models are:\n",
        "- McNemar's test"
      ],
      "metadata": {
        "id": "KDCNShK-HASA"
      }
    },
    {
      "cell_type": "code",
      "source": [
        "all_features_lr_correct = all_features_lr_dev_preds == dev_imdb['label']\n",
        "unigram_lr_correct = unigram_lr_dev_preds == dev_imdb['label']"
      ],
      "metadata": {
        "id": "XG1bhZNEJWEL"
      },
      "execution_count": null,
      "outputs": []
    },
    {
      "cell_type": "code",
      "source": [
        "contingency_tab = pd.crosstab(all_features_lr_correct, unigram_lr_correct)"
      ],
      "metadata": {
        "id": "7024tK-nJnwM"
      },
      "execution_count": null,
      "outputs": []
    },
    {
      "cell_type": "code",
      "source": [
        "from statsmodels.stats.contingency_tables import mcnemar"
      ],
      "metadata": {
        "id": "YC5l9lKqKOR3"
      },
      "execution_count": null,
      "outputs": []
    },
    {
      "cell_type": "code",
      "source": [
        "result = mcnemar(contingency_tab, exact=True)"
      ],
      "metadata": {
        "id": "2GBhIVC-KXhA"
      },
      "execution_count": null,
      "outputs": []
    },
    {
      "cell_type": "code",
      "source": [
        "print('statistic=%.3f, p-value=%.3f' % (result.statistic, result.pvalue))"
      ],
      "metadata": {
        "colab": {
          "base_uri": "https://localhost:8080/"
        },
        "id": "y_1GrmmXKc26",
        "outputId": "101fa4ce-706a-4730-c758-74b54c07fd2e"
      },
      "execution_count": null,
      "outputs": [
        {
          "output_type": "stream",
          "name": "stdout",
          "text": [
            "statistic=63.000, p-value=0.042\n"
          ]
        }
      ]
    },
    {
      "cell_type": "markdown",
      "source": [
        "### Error Analysis of `all_features_lr_dev_f1_score`"
      ],
      "metadata": {
        "id": "7kaRMfFGKgce"
      }
    },
    {
      "cell_type": "code",
      "source": [
        "for label in ['pos', 'neg']:\n",
        "  for text, _ in dev_imdb[(~all_features_lr_correct) & (dev_imdb['label'] == label)].sample(5, random_state = 12).itertuples(index = False):\n",
        "    print(f\"LABEL: {label}\")\n",
        "    print(text)\n",
        "    print('------------------------------------------------------\\n')"
      ],
      "metadata": {
        "colab": {
          "base_uri": "https://localhost:8080/"
        },
        "id": "vuTkObIWKrTg",
        "outputId": "722cafbc-e6fb-43a6-d1e0-5a8038aed502"
      },
      "execution_count": null,
      "outputs": [
        {
          "output_type": "stream",
          "name": "stdout",
          "text": [
            "LABEL: pos\n",
            "The 1967 In Cold Blood was perhaps more like \"the real thing\" (Think about it: would we really want to see the real thing?), but it was black and white in a color world, and a lot of people didn't even know what it was, and there was an opportunity to remake it for television. Plus, if you remake it, you can show some stuff not shown in the original. The book In Cold Blood by Truman Capote was the first \"nonfiction novel\". Truman's book was in fact not 100% true to the real story. I thought the Canadian location sufficed for Kansas pretty much for a TV movie. Look for the elements of sex, drugs and rock 'n' roll: Dick's womanizing, Perry being an aspirin junkie, Perry playing blues guitar.\n",
            "------------------------------------------------------\n",
            "\n",
            "LABEL: pos\n",
            "\"The Ladies Man\" suffers a common problem among movies based on \"Saturday Night Live\" skits. And that is, a sketch that usually succeeds in five minutes will not do so well in ninety minutes. Although this movie does have its laughs, like Tim Meadows as Leon Phelps, a sex-maniac straight out of the '70s, and Will Ferrell as a wrestling-obsessed husband cuckolded by Leon. So this movie is funny enough, but it's no \"Wayne's World\"!\n",
            "------------------------------------------------------\n",
            "\n",
            "LABEL: pos\n",
            "I really don't understand why people get so upset and pan this movie! Remember folks, this is an SNL movie, not anything that is supposed to be unpredictable and original in plot or direction! The Ladies Man is a hilarious movie, albeit stupid at times, with a wacked-out cast and, as usual, WONDERFUL performances by Will Ferrel and Tim Meadows. Yes some of the jokes are stupid, and yes, the characters are unbelievable but its comedy! I really don't understand how anyone couldn't laugh a lot during this hilarious film. Anyway, all I ask is that people take this as it is--an SNL, silly and irreverent comedy. Nothing that will win awards, but nonetheless, some modern comedy gold. \"10-4 Apricot!\"\n",
            "------------------------------------------------------\n",
            "\n",
            "LABEL: pos\n",
            "Bonanza had a great cast of wonderful actors. Lorne Greene, Pernell Whitaker, Michael Landon, Dan Blocker, and even Guy Williams (as the cousin who was brought in for several episodes during 1964 to replace Adam when he was leaving the series). The cast had chemistry, and they seemed to genuinely like each other. That made many of their weakest stories work a lot better than they should have. It also made many of their best stories into great western drama.<br /><br />Like any show that was shooting over thirty episodes every season, there are bound to be some weak ones. However, most of the time each episode had an interesting story, some kind of conflict, and a resolution that usually did not include violence. While Bonanza was a western, the gunfighting was never featured as the main attraction. While I am a fan of The Rifleman and Wanted: Dead Or Alive; those shows usually ended with a gunfight. Gunfights were how many westerns resolved every conflict, and Bonanza was very different in trying to seek peaceful resolutions and harmony instead of killing.<br /><br />In the early years of Bonanza, there are some interesting episodes that do feature a lot of gunfights. Those episodes stand in contrast to the rest of the series, but they are pretty good in and of themselves. In 1964, when Pernell Whitaker wanted to leave the show, Guy Williams was brought in to replace him. Williams was playing the role of a long-lost cousin. Unfortunately, Whitaker decided to stay one more year, and thus Williams was written out of the series when he moved away to marry Adam's old girlfriend. If Williams had stayed on for the duration of Bonanza, one can only wonder how much better the series would have been in the years after 1965, when Pernell Whitaker left the show.<br /><br />Undoubtedly, once Pernell Whitaker left the series, the stories focused more on comedy and country hijinks. Whitaker had often played the heavy in many episodes, and his absence left a void in the cast. Little Joe always wanted to play the nice kid, and Hoss always wanted to play the good old boy with a heart of gold. Since Ben was the kind and wise patriarch of the family, that did not leave too much room for any gunfights.<br /><br />At some point they hired a ranch hand called Candy (David Canary) who became their fourth member of the cast, but Candy was never featured in any gunfights, and he was hardly more than an older version of Little Joe. For a year or two they also had Ben take in some other lost cousin (Jamie, played by the forgettable Mitch Vogel) who was a teenager that was usually getting into some kind of trouble with someone.<br /><br />Apparently by adding the teenager, the studio was looking to attract younger viewers. It also gave the writers a chance to write episodes about teenage problems, alcohol, delinquency, etc. Those kind of preachy episodes were popular in the 1960s as a reaction of the establishment media to the counter-culture movement. Dragnet was probably the most popular source of law and order TV, though Hawaii 5-0, The F.B.I. and many other shows also tried to jump on the bandwagon by doing TV shows that featured irresponsible teenagers causing mischief, mayhem, and crime.<br /><br />The addition of a teenager to the cast gave the Cartwrights more chances to show up and solve problems, but those episodes feel very contrived and are not very good in general. After Dan Blocker died, the series limped along for another year or so before it was canceled. The last season was pretty bad, as it featured Little Joe tracking down the killers of his wife, and most of the episodes were somewhat depressing because Little Joe was usually drinking or otherwise remembering how much he loved his wife, and how unfair it was that she was killed.<br /><br />I don't think I have ever seen the last episode of the series, and I wonder if they ever officially wrapped it up in some way. By the last year, there was only Ben (Lorne Greene) actually living on the Ponderosa, as Adam had moved away (and never came back even once as a guest) and Hoss had died and Little Joe had left after his wife (in the series) had been killed by drifters.<br /><br />Overall, the era from 1959-1965 is the best of this series. Once Adam left, it slowly declined. Most of the shows before 1970 are pretty good too. By 1970, the series was trying to hard to be hip and topical, and it had lost a lot of its western flavor. The addition of Candy and the teenage kid also diluted the general quality of the show, and the death of Hoss (Dan Blocker) was the final nail. Bonanza is probably the best western series ever made, and of the 465 episodes that were produced, at least one hundred of them are excellent western drama! That is a pretty good record. Even the worst of Bonanza is better than a lot of other TV shows.\n",
            "------------------------------------------------------\n",
            "\n",
            "LABEL: pos\n",
            "What more could I say? The Americans totally hated it because the U.S. cut was so bad, although you could detect the underlying goodwill in it.<br /><br />Talking about the U.S. theatrical release(along with the newly released Blu-ray Disc version), it's faster and tighter than HK cut, the background musics were all changed from the dark, grim HK musics to Hip-hop musics; and there were a lot of gruesome scenes cut out. Though, the dubbing was a notable job given that they tried to capture the original actor's voice and tone. But, the problem is Hak Hap(Black Mask) the movie was designed and meant to be dark, grim, super-disturbing and totally gruesome. Very unfortunately the U.S. release just skimmed the cream they wanted, which in return completely changed the movie's undertone(HK release was rated 18+) to be even more comical and amateurish.<br /><br />Now let's talk about the original HK release. This movie is like a hidden gem, a prototype for the whole \"matrix\" tide and era. The fighting scenes are totally awesome even the camera works were a bit \"old-school\" among HK movies. However the style the movie created was a unique blend of Kungfu and pop culture. With all the leather, black costumes and decorations, this movie features a batman-like superhero in a black mask against a run-of-the-mill gang of multinational super-soldiers lead by a punk heavy metal rock star boss. Yes it sounds like imaginations of a retarded child, but it works. It's so impressive that the whole movie's gonna give you nightmares featuring foreigners fighting a bloodbath battle in leather coats. In year 2002 they made a sequel which had a PG-13 rating, but without Jet Li and Liu Qing Yun. And you know how bad that was because Li and Liu were the core characters in the movie and had strong personalities and an interesting friendship. And, did I happen to mention Francois Yip? Her roundhouse kick was totally cool, even cooler than the villain boss because she didn't use a stuntman for all the fighting. Did I mention she was also smoking hot? Anyway, there are a lot of things to like about the movie.<br /><br />However, the movie also suffered from a lot of problems. First off, it's a mediocre script made at its best potential, which means this production team deserved a better screen-writer. There are a lot climaxes in the entire 100 minutes but they often felt like far-fetched and don't totally make senses to the audiences(US version was even worse because all the character developments were cut). Anyway, you can't ask too much out of a comic-inspired action movie. Also, this movie is entirely improper for children. I won't recommend it to you if you are less than 20 years old. It's saturated with disturbing contents including blood, gore, sado-maso costumes, extreme brutal violence and so on. Along with the style of the movie, it can be called a wet dream for heavy-metal rock music fans and action fans. (the U.S. cut was milder, but if you want to see it, see the HK release for what it is.) 7/10. Status: inspiring, hidden, undervalued, adult.\n",
            "------------------------------------------------------\n",
            "\n",
            "LABEL: neg\n",
            "Watching beautiful women sneaking around, playing cops and robbers is one of the most delightful guilty pleasures the medium film lets me enjoy. So The House on Carroll Street was not entirely a waste of time, although the story is contrived and the screenplay uninspired and somewhat irritating.<br /><br />There are many allusions to different Hitchcock pictures, not least the choice of Kelly McGillis in the starring role. She is dressed up as Grace Kelly, and she is not far off the mark. Not at all. But her character is not convincing. The way she is introduced to the audience, she should be someone with political convictions and a purpose in life. After all the movie deals with a clearly defined time period, true events and a specific issue. But the story degenerates within the first minutes into a sorry run-off-the-mill crime story with unbelievable coincidences, high predictability and a set of two dimensional characters. This is all the more regrettable, as the performances of the actors are good, as are the photography and the set design.<br /><br />The finale in Central Station, New York is breath taking. It starts in the subterranean section and then moves up to the roof. The movie can be praised for its good use of architecture.\n",
            "------------------------------------------------------\n",
            "\n",
            "LABEL: neg\n",
            "Squeamish 11-year-old Luke Benward (as Billy \"Worm Boy\" Forrester) moves to a new town. At his new school, young Benward is picked on by the other boys. They put worms in his thermos. Getting his gag reflex under control, Benward tosses a worm on freckle-faced bully Adam Hicks (as Joe Guire). Benward bets he can eat 10 worms in one day - without regurgitation! <br /><br />Tall, teased Hallie Kate Eisenberg (as Erika \"Erk\" Tansy) uses her archery skills to help Benward. Director and former SCTV writer Bob Dolman promises, \"No worms were harmed in the making of this movie.\" In a related note, SCTV star Andrea Martin has one funny scene. \"How to Eat Fried Worms\" is loosely based on Thomas Rockwell's popular novel. Pre-teen kids into gross-outs should enjoy the film.<br /><br />**** How to Eat Fried Worms (8/25/06) Bob Dolman ~ Luke Benward, Adam Hicks, Hallie Kate Eisenberg, Alexander Gould\n",
            "------------------------------------------------------\n",
            "\n",
            "LABEL: neg\n",
            "At least the under ten year old set will stay interested. Eleanor(Geena Davis)and Fred(Hugh Laurie)Little, a nice well-to-do couple set out to bring home from the orphanage a new little brother for their son George(Johnathan Lipnicki). They come home with quite the odd new sibling...a sharp dressed little mouse named Stuart(voiced by Michael J. Fox). Yes, mouse. Stuart is happy to have found the sense of belonging even if it is in a super sized world that contains his new family's pet cat Snowbell(voiced by Nathan Lane). Stuart embarks on the experience of family loyalty and overall friendship. George will finally accept his tiny new brother when the dapper dressed Stuart saves embarrassment at a model boat race.<br /><br />Also in the cast: Julia Sweeney, Harold Gould, Estelle Getty and Jeffery Jones. And the voices of: Chaz Palminteri, Bruno Kirby and Jennifer Tilly.\n",
            "------------------------------------------------------\n",
            "\n",
            "LABEL: neg\n",
            "WE FAW DOWN <br /><br />Aspect ratio: 1.33:1<br /><br />Sound format: Silent<br /><br />(Black and white - Short film)<br /><br />Stan 'n' Ollie get mixed up with a couple of floozies (Kay Deslys and Vera White) after setting out to visit a theatre which burns down in their absence! Needless to say, their tyrannical wives (Vivien Oakland and Bess Flowers) are not amused...<br /><br />Leo McCarey's OK comedy laid the narrative framework for William Seiter's masterpiece SONS OF THE DESERT (1934), with L&H playing brow-beaten victims of circumstance, forced to tell a monstrous lie which backfires in spectacular fashion. Much of it is very funny, especially the scene in which Stan is teased by Deslys, leading to a violent game of push and shove. However, some of the fun is undercut by Oakland and Flowers, playing their roles completely straight, which adds an element of unpleasantness to the 'henpecked husband' scenario. Originally released in the UK as WE SLIP UP.\n",
            "------------------------------------------------------\n",
            "\n",
            "LABEL: neg\n",
            "Now I'll be the first to admit it when I say something that may be blasphemous or unfair, so I would like to apologize in advance for my ranting about how much I disliked this movie.<br /><br />That about sums it up too. I disliked this movie. To be more specific, I disliked the concept of this movie. The cinematography was good. The mood was nice. And the acting was satisfactory.<br /><br /> However, the story is fatuous, unacurate and misleading. It is also offensive.<br /><br />I am a quarter Cree Indian, and for some reason I feel insulted, on a personal level, by the nature of Whitaker's character. First of all, he's a black guy. And this isn't a racist remark, I swear. The thought of a White, Hispanic or even Native American swinging a katana on a rooftop offends everything that the katana represents. The katana represents the soul of a Samurai, imbibed with the souls of his ancestors who guide and protect the Samurai. For Ghost Dog to use his guns instead of the Katana is also an insult to the blade and the souls inside, and where the heck did he get a Katana anyway? It must be one of those replicas, which insults the Samurai caste even more.<br /><br />Also, Ghost Dog showed no honor. Near the end of the movie, he shoots a bodyguard in the back through a window and then assassinates a man by shooting him in the face through a faucet drain. Not only is this a cowards way to kill an enemy, it's more like a ninjas way; silent assassins; a group that samurais deny exists, but hates none-the-less.<br /><br />Then he tries to kill his boss, when he finds out his boss is a baddie. You know what a true Samurai does when he learns his master is proven bad or dishonorable? He kills himself, to prove that he would rather die then lower himself to the level of his doggish master.<br /><br />Everything about the character was a giant contradiction to the real code that all Samurai adhere to: Bushido.<br /><br />So, we have great cinematography, good ambiance and so-so acting encompassing a satiricle plot and premise, (which unfortunately is the most important aspect of it) , making it an unsatisfactory overall film, and an insult to everything a honorable bushi(samurai) holds dear.<br /><br /> 2.5/10 Bleah\n",
            "------------------------------------------------------\n",
            "\n"
          ]
        }
      ]
    },
    {
      "cell_type": "code",
      "source": [],
      "metadata": {
        "colab": {
          "base_uri": "https://localhost:8080/",
          "height": 424
        },
        "id": "B5tFOpmiLA7E",
        "outputId": "84f3b139-9cb2-4aaf-96cd-7f10df2d076c"
      },
      "execution_count": null,
      "outputs": [
        {
          "output_type": "execute_result",
          "data": {
            "text/plain": [
              "                                                   text label\n",
              "6001  Except for the acting of Meryl Streep, which i...   neg\n",
              "6015  When HEY ARNOLD! first came on the air in 1996...   neg\n",
              "6022  Think \"stage play\". This is worth seeing once ...   neg\n",
              "6023  Just as \"ITS A MAD, MAD, MAD, MAD WORLD\" is at...   neg\n",
              "6030  This story about three women is a very sensiti...   neg\n",
              "...                                                 ...   ...\n",
              "7939  Lois Weber, self proclaimed missionary via the...   neg\n",
              "7941  How cynical are the writers, to pander so. I m...   neg\n",
              "7957  I remember going to see the movie in the summe...   neg\n",
              "7980  I dont know about you, but I've always felt dr...   neg\n",
              "7985  The actors did a really good job playing their...   neg\n",
              "\n",
              "[133 rows x 2 columns]"
            ],
            "text/html": [
              "\n",
              "  <div id=\"df-8fba6457-93bb-46b2-8eec-68ddb79b9443\">\n",
              "    <div class=\"colab-df-container\">\n",
              "      <div>\n",
              "<style scoped>\n",
              "    .dataframe tbody tr th:only-of-type {\n",
              "        vertical-align: middle;\n",
              "    }\n",
              "\n",
              "    .dataframe tbody tr th {\n",
              "        vertical-align: top;\n",
              "    }\n",
              "\n",
              "    .dataframe thead th {\n",
              "        text-align: right;\n",
              "    }\n",
              "</style>\n",
              "<table border=\"1\" class=\"dataframe\">\n",
              "  <thead>\n",
              "    <tr style=\"text-align: right;\">\n",
              "      <th></th>\n",
              "      <th>text</th>\n",
              "      <th>label</th>\n",
              "    </tr>\n",
              "  </thead>\n",
              "  <tbody>\n",
              "    <tr>\n",
              "      <th>6001</th>\n",
              "      <td>Except for the acting of Meryl Streep, which i...</td>\n",
              "      <td>neg</td>\n",
              "    </tr>\n",
              "    <tr>\n",
              "      <th>6015</th>\n",
              "      <td>When HEY ARNOLD! first came on the air in 1996...</td>\n",
              "      <td>neg</td>\n",
              "    </tr>\n",
              "    <tr>\n",
              "      <th>6022</th>\n",
              "      <td>Think \"stage play\". This is worth seeing once ...</td>\n",
              "      <td>neg</td>\n",
              "    </tr>\n",
              "    <tr>\n",
              "      <th>6023</th>\n",
              "      <td>Just as \"ITS A MAD, MAD, MAD, MAD WORLD\" is at...</td>\n",
              "      <td>neg</td>\n",
              "    </tr>\n",
              "    <tr>\n",
              "      <th>6030</th>\n",
              "      <td>This story about three women is a very sensiti...</td>\n",
              "      <td>neg</td>\n",
              "    </tr>\n",
              "    <tr>\n",
              "      <th>...</th>\n",
              "      <td>...</td>\n",
              "      <td>...</td>\n",
              "    </tr>\n",
              "    <tr>\n",
              "      <th>7939</th>\n",
              "      <td>Lois Weber, self proclaimed missionary via the...</td>\n",
              "      <td>neg</td>\n",
              "    </tr>\n",
              "    <tr>\n",
              "      <th>7941</th>\n",
              "      <td>How cynical are the writers, to pander so. I m...</td>\n",
              "      <td>neg</td>\n",
              "    </tr>\n",
              "    <tr>\n",
              "      <th>7957</th>\n",
              "      <td>I remember going to see the movie in the summe...</td>\n",
              "      <td>neg</td>\n",
              "    </tr>\n",
              "    <tr>\n",
              "      <th>7980</th>\n",
              "      <td>I dont know about you, but I've always felt dr...</td>\n",
              "      <td>neg</td>\n",
              "    </tr>\n",
              "    <tr>\n",
              "      <th>7985</th>\n",
              "      <td>The actors did a really good job playing their...</td>\n",
              "      <td>neg</td>\n",
              "    </tr>\n",
              "  </tbody>\n",
              "</table>\n",
              "<p>133 rows × 2 columns</p>\n",
              "</div>\n",
              "      <button class=\"colab-df-convert\" onclick=\"convertToInteractive('df-8fba6457-93bb-46b2-8eec-68ddb79b9443')\"\n",
              "              title=\"Convert this dataframe to an interactive table.\"\n",
              "              style=\"display:none;\">\n",
              "        \n",
              "  <svg xmlns=\"http://www.w3.org/2000/svg\" height=\"24px\"viewBox=\"0 0 24 24\"\n",
              "       width=\"24px\">\n",
              "    <path d=\"M0 0h24v24H0V0z\" fill=\"none\"/>\n",
              "    <path d=\"M18.56 5.44l.94 2.06.94-2.06 2.06-.94-2.06-.94-.94-2.06-.94 2.06-2.06.94zm-11 1L8.5 8.5l.94-2.06 2.06-.94-2.06-.94L8.5 2.5l-.94 2.06-2.06.94zm10 10l.94 2.06.94-2.06 2.06-.94-2.06-.94-.94-2.06-.94 2.06-2.06.94z\"/><path d=\"M17.41 7.96l-1.37-1.37c-.4-.4-.92-.59-1.43-.59-.52 0-1.04.2-1.43.59L10.3 9.45l-7.72 7.72c-.78.78-.78 2.05 0 2.83L4 21.41c.39.39.9.59 1.41.59.51 0 1.02-.2 1.41-.59l7.78-7.78 2.81-2.81c.8-.78.8-2.07 0-2.86zM5.41 20L4 18.59l7.72-7.72 1.47 1.35L5.41 20z\"/>\n",
              "  </svg>\n",
              "      </button>\n",
              "      \n",
              "  <style>\n",
              "    .colab-df-container {\n",
              "      display:flex;\n",
              "      flex-wrap:wrap;\n",
              "      gap: 12px;\n",
              "    }\n",
              "\n",
              "    .colab-df-convert {\n",
              "      background-color: #E8F0FE;\n",
              "      border: none;\n",
              "      border-radius: 50%;\n",
              "      cursor: pointer;\n",
              "      display: none;\n",
              "      fill: #1967D2;\n",
              "      height: 32px;\n",
              "      padding: 0 0 0 0;\n",
              "      width: 32px;\n",
              "    }\n",
              "\n",
              "    .colab-df-convert:hover {\n",
              "      background-color: #E2EBFA;\n",
              "      box-shadow: 0px 1px 2px rgba(60, 64, 67, 0.3), 0px 1px 3px 1px rgba(60, 64, 67, 0.15);\n",
              "      fill: #174EA6;\n",
              "    }\n",
              "\n",
              "    [theme=dark] .colab-df-convert {\n",
              "      background-color: #3B4455;\n",
              "      fill: #D2E3FC;\n",
              "    }\n",
              "\n",
              "    [theme=dark] .colab-df-convert:hover {\n",
              "      background-color: #434B5C;\n",
              "      box-shadow: 0px 1px 3px 1px rgba(0, 0, 0, 0.15);\n",
              "      filter: drop-shadow(0px 1px 2px rgba(0, 0, 0, 0.3));\n",
              "      fill: #FFFFFF;\n",
              "    }\n",
              "  </style>\n",
              "\n",
              "      <script>\n",
              "        const buttonEl =\n",
              "          document.querySelector('#df-8fba6457-93bb-46b2-8eec-68ddb79b9443 button.colab-df-convert');\n",
              "        buttonEl.style.display =\n",
              "          google.colab.kernel.accessAllowed ? 'block' : 'none';\n",
              "\n",
              "        async function convertToInteractive(key) {\n",
              "          const element = document.querySelector('#df-8fba6457-93bb-46b2-8eec-68ddb79b9443');\n",
              "          const dataTable =\n",
              "            await google.colab.kernel.invokeFunction('convertToInteractive',\n",
              "                                                     [key], {});\n",
              "          if (!dataTable) return;\n",
              "\n",
              "          const docLinkHtml = 'Like what you see? Visit the ' +\n",
              "            '<a target=\"_blank\" href=https://colab.research.google.com/notebooks/data_table.ipynb>data table notebook</a>'\n",
              "            + ' to learn more about interactive tables.';\n",
              "          element.innerHTML = '';\n",
              "          dataTable['output_type'] = 'display_data';\n",
              "          await google.colab.output.renderOutput(dataTable, element);\n",
              "          const docLink = document.createElement('div');\n",
              "          docLink.innerHTML = docLinkHtml;\n",
              "          element.appendChild(docLink);\n",
              "        }\n",
              "      </script>\n",
              "    </div>\n",
              "  </div>\n",
              "  "
            ]
          },
          "metadata": {},
          "execution_count": 771
        }
      ]
    },
    {
      "cell_type": "markdown",
      "source": [
        "## Deep Learning Approach"
      ],
      "metadata": {
        "id": "2oqc0AZrLWn6"
      }
    },
    {
      "cell_type": "markdown",
      "source": [
        "### FFNN"
      ],
      "metadata": {
        "id": "7RRWjsXUNUT5"
      }
    },
    {
      "cell_type": "code",
      "source": [
        "# model constants\n",
        "max_features = 25000\n",
        "embedding_dim = 128"
      ],
      "metadata": {
        "id": "vsxI8Vx0VVsm"
      },
      "execution_count": null,
      "outputs": []
    },
    {
      "cell_type": "code",
      "source": [
        "from tensorflow.keras.layers.experimental.preprocessing import TextVectorization"
      ],
      "metadata": {
        "id": "J4tFPPibSLWj"
      },
      "execution_count": null,
      "outputs": []
    },
    {
      "cell_type": "code",
      "source": [
        "def custom_standardizer(text):\n",
        "  text = tf.strings.lower(text)\n",
        "  text = tf.strings.regex_replace(text, '<br />', ' ')\n",
        "  text = tf.strings.regex_replace(text,\n",
        "                                  '[%s]' % re.escape(string.punctuation),\n",
        "                                  '')\n",
        "  return text"
      ],
      "metadata": {
        "id": "JGTKq50ceEPs"
      },
      "execution_count": null,
      "outputs": []
    },
    {
      "cell_type": "code",
      "source": [
        "vectorize_layer = TextVectorization(standardize = custom_standardizer,\n",
        "                                    max_tokens=max_features,\n",
        "                                    output_mode='int',\n",
        "                                    output_sequence_length=600)"
      ],
      "metadata": {
        "id": "dkjzPo6TNkXh"
      },
      "execution_count": null,
      "outputs": []
    },
    {
      "cell_type": "code",
      "source": [
        "vectorize_layer.adapt(train_imdb['text'].values)"
      ],
      "metadata": {
        "id": "POKY68AAOAr2"
      },
      "execution_count": null,
      "outputs": []
    },
    {
      "cell_type": "code",
      "source": [
        "vectorize_layer.get_vocabulary()[:10]"
      ],
      "metadata": {
        "colab": {
          "base_uri": "https://localhost:8080/"
        },
        "id": "2f6SQz6_t2_t",
        "outputId": "43efb1b6-8420-42a9-8cdc-0db903cd6b5b"
      },
      "execution_count": null,
      "outputs": [
        {
          "output_type": "execute_result",
          "data": {
            "text/plain": [
              "['', '[UNK]', 'the', 'a', 'and', 'of', 'to', 'is', 'in', 'it']"
            ]
          },
          "metadata": {},
          "execution_count": 342
        }
      ]
    },
    {
      "cell_type": "code",
      "source": [
        "len(vectorize_layer.get_vocabulary())"
      ],
      "metadata": {
        "colab": {
          "base_uri": "https://localhost:8080/"
        },
        "id": "BrmAe9j8xMNA",
        "outputId": "8c2547ca-88b4-4c39-faea-1192fcc4ce0c"
      },
      "execution_count": null,
      "outputs": [
        {
          "output_type": "execute_result",
          "data": {
            "text/plain": [
              "25000"
            ]
          },
          "metadata": {},
          "execution_count": 343
        }
      ]
    },
    {
      "cell_type": "code",
      "source": [
        "from tensorflow.keras import Input, Model\n",
        "from tensorflow.keras.layers import Embedding, Dropout, GlobalMaxPooling1D, Dense\n",
        "\n",
        "# A text input.\n",
        "text_input = Input(shape=(1,), dtype=tf.string, name='text')\n",
        "\n",
        "# The first layer in our model is the vectorization layer. After this layer,\n",
        "# we have a tensor of shape (batch_size, max_len) containing vocab indices.\n",
        "x = vectorize_layer(text_input)\n",
        "\n",
        "# Next, we add a layer to map those vocab indices into a space of dimensionality\n",
        "# 'embedding_dim'. Note that we're using max_features+1 here, since there's an\n",
        "# OOV token that gets added to the vocabulary in vectorize_layer.\n",
        "x = Embedding(max_features + 1, embedding_dim)(x)\n",
        "\n",
        "# global max pooling\n",
        "x = GlobalMaxPooling1D()(x)\n",
        "\n",
        "# dropout\n",
        "x = Dropout(0.5)(x)\n",
        "\n",
        "# We project onto a single unit output layer, and squash it with a sigmoid:\n",
        "predictions = Dense(1, activation='sigmoid', name='predictions')(x)\n",
        "\n",
        "model = Model(text_input, predictions)\n",
        "\n",
        "# Compile the model with binary crossentropy loss and an adam optimizer.\n",
        "model.compile(\n",
        "    loss='binary_crossentropy', optimizer='adam', metrics=[\"accuracy\"])"
      ],
      "metadata": {
        "id": "trjixQ7mQ29e"
      },
      "execution_count": null,
      "outputs": []
    },
    {
      "cell_type": "code",
      "source": [
        "model.summary()"
      ],
      "metadata": {
        "colab": {
          "base_uri": "https://localhost:8080/"
        },
        "id": "ebyn9lJqZZ6b",
        "outputId": "ebf9e002-2d55-409b-e8d5-574edb741a34"
      },
      "execution_count": null,
      "outputs": [
        {
          "output_type": "stream",
          "name": "stdout",
          "text": [
            "Model: \"model_54\"\n",
            "_________________________________________________________________\n",
            " Layer (type)                Output Shape              Param #   \n",
            "=================================================================\n",
            " text (InputLayer)           [(None, 1)]               0         \n",
            "                                                                 \n",
            " text_vectorization_18 (Text  (None, 600)              0         \n",
            " Vectorization)                                                  \n",
            "                                                                 \n",
            " embedding_57 (Embedding)    (None, 600, 128)          3200128   \n",
            "                                                                 \n",
            " global_max_pooling1d_24 (Gl  (None, 128)              0         \n",
            " obalMaxPooling1D)                                               \n",
            "                                                                 \n",
            " dropout_57 (Dropout)        (None, 128)               0         \n",
            "                                                                 \n",
            " predictions (Dense)         (None, 1)                 129       \n",
            "                                                                 \n",
            "=================================================================\n",
            "Total params: 3,200,257\n",
            "Trainable params: 3,200,257\n",
            "Non-trainable params: 0\n",
            "_________________________________________________________________\n"
          ]
        }
      ]
    },
    {
      "cell_type": "code",
      "source": [
        "from tensorflow.keras.callbacks import EarlyStopping\n",
        "\n",
        "early_stop = EarlyStopping(monitor='val_accuracy',\n",
        "                           restore_best_weights=False,\n",
        "                           patience = 5)"
      ],
      "metadata": {
        "id": "wf6sAImX2E9x"
      },
      "execution_count": null,
      "outputs": []
    },
    {
      "cell_type": "code",
      "source": [
        "batch_size = 32\n",
        "epochs = 50\n",
        "\n",
        "# Fit the model using the train and test datasets.\n",
        "model.fit(x = tf.constant(train_imdb['text'].values, dtype = tf.string),\n",
        "          y = tf.constant(train_imdb['label'].values == 'pos', dtype = tf.int32),\n",
        "          validation_data = (tf.constant(dev_imdb['text'].values, dtype = tf.string),\n",
        "                             tf.constant(dev_imdb['label'].values == 'pos', dtype = tf.int32)),\n",
        "          epochs=epochs,\n",
        "          callbacks = [early_stop])"
      ],
      "metadata": {
        "colab": {
          "base_uri": "https://localhost:8080/"
        },
        "id": "9CdfCpLyUTJB",
        "outputId": "13d29749-7c1f-4e1e-e57e-1b173d093e16"
      },
      "execution_count": null,
      "outputs": [
        {
          "output_type": "stream",
          "name": "stdout",
          "text": [
            "Epoch 1/50\n",
            "188/188 [==============================] - 2s 8ms/step - loss: 0.6803 - accuracy: 0.5938 - val_loss: 0.6558 - val_accuracy: 0.8020\n",
            "Epoch 2/50\n",
            "188/188 [==============================] - 1s 7ms/step - loss: 0.5993 - accuracy: 0.7863 - val_loss: 0.5463 - val_accuracy: 0.8445\n",
            "Epoch 3/50\n",
            "188/188 [==============================] - 1s 7ms/step - loss: 0.4763 - accuracy: 0.8363 - val_loss: 0.4467 - val_accuracy: 0.8480\n",
            "Epoch 4/50\n",
            "188/188 [==============================] - 1s 7ms/step - loss: 0.3914 - accuracy: 0.8585 - val_loss: 0.3914 - val_accuracy: 0.8565\n",
            "Epoch 5/50\n",
            "188/188 [==============================] - 1s 7ms/step - loss: 0.3236 - accuracy: 0.8858 - val_loss: 0.3583 - val_accuracy: 0.8615\n",
            "Epoch 6/50\n",
            "188/188 [==============================] - 1s 7ms/step - loss: 0.2845 - accuracy: 0.8992 - val_loss: 0.3375 - val_accuracy: 0.8660\n",
            "Epoch 7/50\n",
            "188/188 [==============================] - 1s 7ms/step - loss: 0.2450 - accuracy: 0.9177 - val_loss: 0.3238 - val_accuracy: 0.8685\n",
            "Epoch 8/50\n",
            "188/188 [==============================] - 1s 7ms/step - loss: 0.2123 - accuracy: 0.9282 - val_loss: 0.3142 - val_accuracy: 0.8740\n",
            "Epoch 9/50\n",
            "188/188 [==============================] - 1s 7ms/step - loss: 0.1854 - accuracy: 0.9402 - val_loss: 0.3072 - val_accuracy: 0.8785\n",
            "Epoch 10/50\n",
            "188/188 [==============================] - 1s 7ms/step - loss: 0.1653 - accuracy: 0.9533 - val_loss: 0.3025 - val_accuracy: 0.8810\n",
            "Epoch 11/50\n",
            "188/188 [==============================] - 1s 7ms/step - loss: 0.1483 - accuracy: 0.9548 - val_loss: 0.2985 - val_accuracy: 0.8830\n",
            "Epoch 12/50\n",
            "188/188 [==============================] - 1s 7ms/step - loss: 0.1227 - accuracy: 0.9618 - val_loss: 0.2955 - val_accuracy: 0.8825\n",
            "Epoch 13/50\n",
            "188/188 [==============================] - 1s 7ms/step - loss: 0.1052 - accuracy: 0.9723 - val_loss: 0.2940 - val_accuracy: 0.8820\n",
            "Epoch 14/50\n",
            "188/188 [==============================] - 1s 7ms/step - loss: 0.0959 - accuracy: 0.9765 - val_loss: 0.2929 - val_accuracy: 0.8835\n",
            "Epoch 15/50\n",
            "188/188 [==============================] - 1s 7ms/step - loss: 0.0795 - accuracy: 0.9812 - val_loss: 0.2920 - val_accuracy: 0.8815\n",
            "Epoch 16/50\n",
            "188/188 [==============================] - 1s 7ms/step - loss: 0.0734 - accuracy: 0.9818 - val_loss: 0.2918 - val_accuracy: 0.8810\n",
            "Epoch 17/50\n",
            "188/188 [==============================] - 1s 7ms/step - loss: 0.0640 - accuracy: 0.9855 - val_loss: 0.2921 - val_accuracy: 0.8805\n",
            "Epoch 18/50\n",
            "188/188 [==============================] - 1s 7ms/step - loss: 0.0603 - accuracy: 0.9852 - val_loss: 0.2938 - val_accuracy: 0.8825\n",
            "Epoch 19/50\n",
            "188/188 [==============================] - 1s 7ms/step - loss: 0.0599 - accuracy: 0.9857 - val_loss: 0.2951 - val_accuracy: 0.8790\n"
          ]
        },
        {
          "output_type": "execute_result",
          "data": {
            "text/plain": [
              "<keras.callbacks.History at 0x7fbb8c7588d0>"
            ]
          },
          "metadata": {},
          "execution_count": 347
        }
      ]
    },
    {
      "cell_type": "markdown",
      "source": [
        "### CNN"
      ],
      "metadata": {
        "id": "g5Kw7WnSBwZ3"
      }
    },
    {
      "cell_type": "code",
      "source": [
        "# model constants\n",
        "max_features = 25000\n",
        "embedding_dim = 128"
      ],
      "metadata": {
        "id": "UepTh4bQBwZ3"
      },
      "execution_count": null,
      "outputs": []
    },
    {
      "cell_type": "code",
      "source": [
        "from tensorflow.keras.layers.experimental.preprocessing import TextVectorization"
      ],
      "metadata": {
        "id": "EpRXeGIiBwZ3"
      },
      "execution_count": null,
      "outputs": []
    },
    {
      "cell_type": "code",
      "source": [
        "def custom_standardizer(text):\n",
        "  text = tf.strings.lower(text)\n",
        "  text = tf.strings.regex_replace(text, '<br />', ' ')\n",
        "  text = tf.strings.regex_replace(text,\n",
        "                                  '[%s]' % re.escape(string.punctuation),\n",
        "                                  '')\n",
        "  return text"
      ],
      "metadata": {
        "id": "ZJHSkdHjBwZ3"
      },
      "execution_count": null,
      "outputs": []
    },
    {
      "cell_type": "code",
      "source": [
        "vectorize_layer = TextVectorization(standardize = custom_standardizer,\n",
        "                                    max_tokens=max_features,\n",
        "                                    output_mode='int',\n",
        "                                    output_sequence_length=600)"
      ],
      "metadata": {
        "id": "qDXQjUi6BwZ3"
      },
      "execution_count": null,
      "outputs": []
    },
    {
      "cell_type": "code",
      "source": [
        "vectorize_layer.adapt(train_imdb['text'].values)"
      ],
      "metadata": {
        "id": "W1SDzaLeBwZ4"
      },
      "execution_count": null,
      "outputs": []
    },
    {
      "cell_type": "code",
      "source": [
        "vectorize_layer.get_vocabulary()[:10]"
      ],
      "metadata": {
        "colab": {
          "base_uri": "https://localhost:8080/"
        },
        "outputId": "13ae53aa-6b81-4063-b43a-a59af480eee5",
        "id": "_jFG91P3BwZ4"
      },
      "execution_count": null,
      "outputs": [
        {
          "output_type": "execute_result",
          "data": {
            "text/plain": [
              "['', '[UNK]', 'the', 'a', 'and', 'of', 'to', 'is', 'in', 'it']"
            ]
          },
          "metadata": {},
          "execution_count": 364
        }
      ]
    },
    {
      "cell_type": "code",
      "source": [
        "len(vectorize_layer.get_vocabulary())"
      ],
      "metadata": {
        "colab": {
          "base_uri": "https://localhost:8080/"
        },
        "outputId": "8df8d742-c50b-45c1-c8e3-55a7e7148e82",
        "id": "505F_ianBwZ4"
      },
      "execution_count": null,
      "outputs": [
        {
          "output_type": "execute_result",
          "data": {
            "text/plain": [
              "25000"
            ]
          },
          "metadata": {},
          "execution_count": 365
        }
      ]
    },
    {
      "cell_type": "code",
      "source": [
        "from tensorflow.keras import Input, Model\n",
        "from tensorflow.keras.layers import Embedding, Dropout, GlobalMaxPooling1D, Conv1D, Dense\n",
        "\n",
        "# A text input.\n",
        "text_input = Input(shape=(1,), dtype=tf.string, name='text')\n",
        "\n",
        "# The first layer in our model is the vectorization layer. After this layer,\n",
        "# we have a tensor of shape (batch_size, max_len) containing vocab indices.\n",
        "x = vectorize_layer(text_input)\n",
        "\n",
        "# Next, we add a layer to map those vocab indices into a space of dimensionality\n",
        "# 'embedding_dim'. Note that we're using max_features+1 here, since there's an\n",
        "# OOV token that gets added to the vocabulary in vectorize_layer.\n",
        "x = Embedding(max_features + 1, embedding_dim)(x)\n",
        "\n",
        "# convolutional lauyer\n",
        "x = Conv1D(128, 4, padding='same', activation='relu', strides=1)(x)\n",
        "\n",
        "# global max pooling\n",
        "x = GlobalMaxPooling1D()(x)\n",
        "\n",
        "# dropout\n",
        "x = Dropout(0.5)(x)\n",
        "\n",
        "# We project onto a single unit output layer, and squash it with a sigmoid:\n",
        "predictions = Dense(1, activation='sigmoid', name='predictions')(x)\n",
        "\n",
        "model = Model(text_input, predictions)\n",
        "\n",
        "# Compile the model with binary crossentropy loss and an adam optimizer.\n",
        "model.compile(\n",
        "    loss='binary_crossentropy', optimizer='adam', metrics=[\"accuracy\"])"
      ],
      "metadata": {
        "id": "aHh7DEs3BwZ4"
      },
      "execution_count": null,
      "outputs": []
    },
    {
      "cell_type": "code",
      "source": [
        "model.summary()"
      ],
      "metadata": {
        "colab": {
          "base_uri": "https://localhost:8080/"
        },
        "outputId": "7904702e-6a09-4828-db8c-298e131b6b09",
        "id": "aTKU7SfDBwZ4"
      },
      "execution_count": null,
      "outputs": [
        {
          "output_type": "stream",
          "name": "stdout",
          "text": [
            "Model: \"model_64\"\n",
            "_________________________________________________________________\n",
            " Layer (type)                Output Shape              Param #   \n",
            "=================================================================\n",
            " text (InputLayer)           [(None, 1)]               0         \n",
            "                                                                 \n",
            " text_vectorization_20 (Text  (None, 600)              0         \n",
            " Vectorization)                                                  \n",
            "                                                                 \n",
            " embedding_67 (Embedding)    (None, 600, 128)          3200128   \n",
            "                                                                 \n",
            " conv1d_9 (Conv1D)           (None, 600, 128)          65664     \n",
            "                                                                 \n",
            " global_max_pooling1d_34 (Gl  (None, 128)              0         \n",
            " obalMaxPooling1D)                                               \n",
            "                                                                 \n",
            " dropout_67 (Dropout)        (None, 128)               0         \n",
            "                                                                 \n",
            " predictions (Dense)         (None, 1)                 129       \n",
            "                                                                 \n",
            "=================================================================\n",
            "Total params: 3,265,921\n",
            "Trainable params: 3,265,921\n",
            "Non-trainable params: 0\n",
            "_________________________________________________________________\n"
          ]
        }
      ]
    },
    {
      "cell_type": "code",
      "source": [
        "from tensorflow.keras.callbacks import EarlyStopping\n",
        "\n",
        "early_stop = EarlyStopping(monitor='val_accuracy',\n",
        "                           restore_best_weights=False,\n",
        "                           patience = 5)"
      ],
      "metadata": {
        "id": "03DhM1NnBwZ4"
      },
      "execution_count": null,
      "outputs": []
    },
    {
      "cell_type": "code",
      "source": [
        "batch_size = 32\n",
        "epochs = 50\n",
        "\n",
        "# Fit the model using the train and test datasets.\n",
        "model.fit(x = tf.constant(train_imdb['text'].values, dtype = tf.string),\n",
        "          y = tf.constant(train_imdb['label'].values == 'pos', dtype = tf.int32),\n",
        "          validation_data = (tf.constant(dev_imdb['text'].values, dtype = tf.string),\n",
        "                             tf.constant(dev_imdb['label'].values == 'pos', dtype = tf.int32)),\n",
        "          epochs=epochs,\n",
        "          callbacks = [early_stop])"
      ],
      "metadata": {
        "colab": {
          "base_uri": "https://localhost:8080/"
        },
        "outputId": "9a5570cf-66c7-4f6b-e01e-2d98d2dc46cc",
        "id": "3BVtstvMBwZ5"
      },
      "execution_count": null,
      "outputs": [
        {
          "output_type": "stream",
          "name": "stdout",
          "text": [
            "Epoch 1/50\n",
            "188/188 [==============================] - 2s 9ms/step - loss: 0.6286 - accuracy: 0.6405 - val_loss: 0.4920 - val_accuracy: 0.7845\n",
            "Epoch 2/50\n",
            "188/188 [==============================] - 1s 8ms/step - loss: 0.4258 - accuracy: 0.8100 - val_loss: 0.3845 - val_accuracy: 0.8360\n",
            "Epoch 3/50\n",
            "188/188 [==============================] - 1s 8ms/step - loss: 0.2738 - accuracy: 0.8947 - val_loss: 0.3374 - val_accuracy: 0.8500\n",
            "Epoch 4/50\n",
            "188/188 [==============================] - 1s 8ms/step - loss: 0.1523 - accuracy: 0.9527 - val_loss: 0.3360 - val_accuracy: 0.8540\n",
            "Epoch 5/50\n",
            "188/188 [==============================] - 1s 8ms/step - loss: 0.0683 - accuracy: 0.9825 - val_loss: 0.3855 - val_accuracy: 0.8460\n",
            "Epoch 6/50\n",
            "188/188 [==============================] - 1s 8ms/step - loss: 0.0294 - accuracy: 0.9960 - val_loss: 0.4295 - val_accuracy: 0.8390\n",
            "Epoch 7/50\n",
            "188/188 [==============================] - 1s 8ms/step - loss: 0.0148 - accuracy: 0.9987 - val_loss: 0.4676 - val_accuracy: 0.8405\n",
            "Epoch 8/50\n",
            "188/188 [==============================] - 1s 8ms/step - loss: 0.0087 - accuracy: 0.9995 - val_loss: 0.5100 - val_accuracy: 0.8375\n",
            "Epoch 9/50\n",
            "188/188 [==============================] - 2s 9ms/step - loss: 0.0063 - accuracy: 0.9993 - val_loss: 0.5412 - val_accuracy: 0.8360\n"
          ]
        },
        {
          "output_type": "execute_result",
          "data": {
            "text/plain": [
              "<keras.callbacks.History at 0x7fbb83a91f10>"
            ]
          },
          "metadata": {},
          "execution_count": 401
        }
      ]
    },
    {
      "cell_type": "markdown",
      "source": [
        "### LSTM"
      ],
      "metadata": {
        "id": "npGP2hMQYNTv"
      }
    },
    {
      "cell_type": "code",
      "source": [
        "# model constants\n",
        "max_features = 25000\n",
        "embedding_dim = 128"
      ],
      "metadata": {
        "id": "NTreIg7f21OS"
      },
      "execution_count": null,
      "outputs": []
    },
    {
      "cell_type": "code",
      "source": [
        "from tensorflow.keras.layers.experimental.preprocessing import TextVectorization"
      ],
      "metadata": {
        "id": "N7tnczYB21OT"
      },
      "execution_count": null,
      "outputs": []
    },
    {
      "cell_type": "code",
      "source": [
        "def custom_standardizer(text):\n",
        "  text = tf.strings.lower(text)\n",
        "  text = tf.strings.regex_replace(text, '<br />', ' ')\n",
        "  text = tf.strings.regex_replace(text,\n",
        "                                  '[%s]' % re.escape(string.punctuation),\n",
        "                                  '')\n",
        "  return text"
      ],
      "metadata": {
        "id": "AwynHT4h21OT"
      },
      "execution_count": null,
      "outputs": []
    },
    {
      "cell_type": "code",
      "source": [
        "vectorize_layer = TextVectorization(standardize = custom_standardizer,\n",
        "                                    max_tokens=max_features,\n",
        "                                    output_mode='int',\n",
        "                                    output_sequence_length=600)"
      ],
      "metadata": {
        "id": "wFkYWKK-21OT"
      },
      "execution_count": null,
      "outputs": []
    },
    {
      "cell_type": "code",
      "source": [
        "vectorize_layer.adapt(train_imdb['text'].values)"
      ],
      "metadata": {
        "id": "UlUXSL8m21OT"
      },
      "execution_count": null,
      "outputs": []
    },
    {
      "cell_type": "code",
      "source": [
        "vectorize_layer.get_vocabulary()[:10]"
      ],
      "metadata": {
        "colab": {
          "base_uri": "https://localhost:8080/"
        },
        "outputId": "9d2a7d67-8964-4118-e1a4-72d0e6983718",
        "id": "wAbJIdwy21OU"
      },
      "execution_count": null,
      "outputs": [
        {
          "output_type": "execute_result",
          "data": {
            "text/plain": [
              "['', '[UNK]', 'the', 'a', 'and', 'of', 'to', 'is', 'in', 'it']"
            ]
          },
          "metadata": {},
          "execution_count": 407
        }
      ]
    },
    {
      "cell_type": "code",
      "source": [
        "len(vectorize_layer.get_vocabulary())"
      ],
      "metadata": {
        "colab": {
          "base_uri": "https://localhost:8080/"
        },
        "outputId": "1cc190b4-2d3b-4588-ce88-d98fcfb0dcf6",
        "id": "j0Uk3S5L21OU"
      },
      "execution_count": null,
      "outputs": [
        {
          "output_type": "execute_result",
          "data": {
            "text/plain": [
              "25000"
            ]
          },
          "metadata": {},
          "execution_count": 408
        }
      ]
    },
    {
      "cell_type": "code",
      "source": [
        "from tensorflow.keras import Input, Model\n",
        "from tensorflow.keras.layers import Embedding, Dropout, GlobalMaxPooling1D, Dense, GRU\n",
        "\n",
        "# A text input.\n",
        "text_input = Input(shape=(1,), dtype=tf.string, name='text')\n",
        "\n",
        "# The first layer in our model is the vectorization layer. After this layer,\n",
        "# we have a tensor of shape (batch_size, max_len) containing vocab indices.\n",
        "x = vectorize_layer(text_input)\n",
        "\n",
        "# Next, we add a layer to map those vocab indices into a space of dimensionality\n",
        "# 'embedding_dim'. Note that we're using max_features+1 here, since there's an\n",
        "# OOV token that gets added to the vocabulary in vectorize_layer.\n",
        "x = Embedding(max_features + 1, embedding_dim)(x)\n",
        "\n",
        "# BiLSTM\n",
        "x = Bidirectional(LSTM(128))(x)\n",
        "\n",
        "# dropout\n",
        "x = Dropout(0.5)(x)\n",
        "\n",
        "# We project onto a single unit output layer, and squash it with a sigmoid:\n",
        "predictions = Dense(1, activation='sigmoid', name='predictions')(x)\n",
        "\n",
        "model = Model(text_input, predictions)\n",
        "\n",
        "# Compile the model with binary crossentropy loss and an adam optimizer.\n",
        "model.compile(\n",
        "    loss='binary_crossentropy', optimizer='adam', metrics=[\"accuracy\"])"
      ],
      "metadata": {
        "id": "_iwGBA0N21OU"
      },
      "execution_count": null,
      "outputs": []
    },
    {
      "cell_type": "code",
      "source": [
        "model.summary()"
      ],
      "metadata": {
        "colab": {
          "base_uri": "https://localhost:8080/"
        },
        "outputId": "9715a313-3be2-4abb-8fce-06d2e8a85b29",
        "id": "CbkIeYyt21OV"
      },
      "execution_count": null,
      "outputs": [
        {
          "output_type": "stream",
          "name": "stdout",
          "text": [
            "Model: \"model_65\"\n",
            "_________________________________________________________________\n",
            " Layer (type)                Output Shape              Param #   \n",
            "=================================================================\n",
            " text (InputLayer)           [(None, 1)]               0         \n",
            "                                                                 \n",
            " text_vectorization_21 (Text  (None, 600)              0         \n",
            " Vectorization)                                                  \n",
            "                                                                 \n",
            " embedding_68 (Embedding)    (None, 600, 128)          3200128   \n",
            "                                                                 \n",
            " bidirectional_49 (Bidirecti  (None, 256)              263168    \n",
            " onal)                                                           \n",
            "                                                                 \n",
            " dropout_68 (Dropout)        (None, 256)               0         \n",
            "                                                                 \n",
            " predictions (Dense)         (None, 1)                 257       \n",
            "                                                                 \n",
            "=================================================================\n",
            "Total params: 3,463,553\n",
            "Trainable params: 3,463,553\n",
            "Non-trainable params: 0\n",
            "_________________________________________________________________\n"
          ]
        }
      ]
    },
    {
      "cell_type": "code",
      "source": [
        "from tensorflow.keras.callbacks import EarlyStopping\n",
        "\n",
        "early_stop = EarlyStopping(monitor='val_accuracy',\n",
        "                           restore_best_weights=False,\n",
        "                           patience = 5)"
      ],
      "metadata": {
        "id": "05JAS42R21OV"
      },
      "execution_count": null,
      "outputs": []
    },
    {
      "cell_type": "code",
      "source": [
        "batch_size = 32\n",
        "epochs = 50\n",
        "\n",
        "# Fit the model using the train and test datasets.\n",
        "model.fit(x = tf.constant(train_imdb['text'].values, dtype = tf.string),\n",
        "          y = tf.constant(train_imdb['label'].values == 'pos', dtype = tf.int32),\n",
        "          validation_data = (tf.constant(dev_imdb['text'].values, dtype = tf.string),\n",
        "                             tf.constant(dev_imdb['label'].values == 'pos', dtype = tf.int32)),\n",
        "          epochs=epochs,\n",
        "          callbacks = [early_stop])"
      ],
      "metadata": {
        "colab": {
          "base_uri": "https://localhost:8080/"
        },
        "outputId": "ccf2b64c-ac01-4cf9-b5cb-88ad88c58f42",
        "id": "uAbVeQkr21OV"
      },
      "execution_count": null,
      "outputs": [
        {
          "output_type": "stream",
          "name": "stdout",
          "text": [
            "Epoch 1/50\n",
            "188/188 [==============================] - 18s 78ms/step - loss: 0.6482 - accuracy: 0.6092 - val_loss: 0.4982 - val_accuracy: 0.7695\n",
            "Epoch 2/50\n",
            "188/188 [==============================] - 14s 74ms/step - loss: 0.4479 - accuracy: 0.8180 - val_loss: 0.5281 - val_accuracy: 0.7690\n",
            "Epoch 3/50\n",
            "188/188 [==============================] - 14s 73ms/step - loss: 0.2347 - accuracy: 0.9123 - val_loss: 0.5895 - val_accuracy: 0.7780\n",
            "Epoch 4/50\n",
            "188/188 [==============================] - 14s 74ms/step - loss: 0.1128 - accuracy: 0.9655 - val_loss: 0.9575 - val_accuracy: 0.7895\n",
            "Epoch 5/50\n",
            "188/188 [==============================] - 14s 74ms/step - loss: 0.0882 - accuracy: 0.9738 - val_loss: 0.6587 - val_accuracy: 0.7940\n",
            "Epoch 6/50\n",
            "188/188 [==============================] - 14s 73ms/step - loss: 0.0479 - accuracy: 0.9875 - val_loss: 0.7524 - val_accuracy: 0.7890\n",
            "Epoch 7/50\n",
            "188/188 [==============================] - 14s 74ms/step - loss: 0.0444 - accuracy: 0.9880 - val_loss: 0.8710 - val_accuracy: 0.7735\n",
            "Epoch 8/50\n",
            "188/188 [==============================] - 14s 74ms/step - loss: 0.0423 - accuracy: 0.9880 - val_loss: 0.7829 - val_accuracy: 0.7795\n",
            "Epoch 9/50\n",
            "188/188 [==============================] - 14s 74ms/step - loss: 0.0239 - accuracy: 0.9930 - val_loss: 0.9232 - val_accuracy: 0.7735\n",
            "Epoch 10/50\n",
            "188/188 [==============================] - 14s 75ms/step - loss: 0.0225 - accuracy: 0.9950 - val_loss: 1.1518 - val_accuracy: 0.7725\n"
          ]
        },
        {
          "output_type": "execute_result",
          "data": {
            "text/plain": [
              "<keras.callbacks.History at 0x7fbb83775110>"
            ]
          },
          "metadata": {},
          "execution_count": 412
        }
      ]
    },
    {
      "cell_type": "code",
      "source": [],
      "metadata": {
        "id": "2Dr6JAo36DXp"
      },
      "execution_count": null,
      "outputs": []
    }
  ]
}